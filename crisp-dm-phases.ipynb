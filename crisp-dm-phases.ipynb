{
 "cells": [
  {
   "metadata": {},
   "cell_type": "markdown",
   "source": "## Data understanding",
   "id": "916014fa1d4de4e0"
  },
  {
   "metadata": {
    "ExecuteTime": {
     "end_time": "2025-06-14T20:34:19.371023Z",
     "start_time": "2025-06-14T20:34:18.462845Z"
    }
   },
   "cell_type": "code",
   "source": [
    "import warnings\n",
    "from datetime import datetime\n",
    "\n",
    "import dill\n",
    "import pandas as pd\n",
    "from sklearn.ensemble import RandomForestClassifier\n",
    "from sklearn.linear_model import LogisticRegression\n",
    "from sklearn.model_selection import cross_val_score, StratifiedKFold\n",
    "from sklearn.neural_network import MLPClassifier\n",
    "from sklearn.preprocessing import OneHotEncoder\n",
    "\n",
    "warnings.filterwarnings('ignore')"
   ],
   "id": "2070ecc1a2a40235",
   "outputs": [],
   "execution_count": 1
  },
  {
   "cell_type": "code",
   "id": "initial_id",
   "metadata": {
    "collapsed": true,
    "ExecuteTime": {
     "end_time": "2025-06-14T20:34:51.123754Z",
     "start_time": "2025-06-14T20:34:19.382412Z"
    }
   },
   "source": [
    "df_hits = pd.read_csv('data/ga_hits.csv')\n",
    "df_sessions = pd.read_csv('data/ga_sessions.csv', low_memory=False)"
   ],
   "outputs": [],
   "execution_count": 2
  },
  {
   "metadata": {
    "ExecuteTime": {
     "end_time": "2025-06-14T20:34:51.201016Z",
     "start_time": "2025-06-14T20:34:51.195975Z"
    }
   },
   "cell_type": "code",
   "source": "df_hits.info()",
   "id": "1786c730effd5bb2",
   "outputs": [
    {
     "name": "stdout",
     "output_type": "stream",
     "text": [
      "<class 'pandas.core.frame.DataFrame'>\n",
      "RangeIndex: 15726470 entries, 0 to 15726469\n",
      "Data columns (total 11 columns):\n",
      " #   Column          Dtype  \n",
      "---  ------          -----  \n",
      " 0   session_id      object \n",
      " 1   hit_date        object \n",
      " 2   hit_time        float64\n",
      " 3   hit_number      int64  \n",
      " 4   hit_type        object \n",
      " 5   hit_referer     object \n",
      " 6   hit_page_path   object \n",
      " 7   event_category  object \n",
      " 8   event_action    object \n",
      " 9   event_label     object \n",
      " 10  event_value     float64\n",
      "dtypes: float64(2), int64(1), object(8)\n",
      "memory usage: 1.3+ GB\n"
     ]
    }
   ],
   "execution_count": 3
  },
  {
   "metadata": {
    "ExecuteTime": {
     "end_time": "2025-06-14T20:34:51.322519Z",
     "start_time": "2025-06-14T20:34:51.317803Z"
    }
   },
   "cell_type": "code",
   "source": "df_sessions.info()",
   "id": "4310855498bbb86c",
   "outputs": [
    {
     "name": "stdout",
     "output_type": "stream",
     "text": [
      "<class 'pandas.core.frame.DataFrame'>\n",
      "RangeIndex: 1860042 entries, 0 to 1860041\n",
      "Data columns (total 18 columns):\n",
      " #   Column                    Dtype \n",
      "---  ------                    ----- \n",
      " 0   session_id                object\n",
      " 1   client_id                 object\n",
      " 2   visit_date                object\n",
      " 3   visit_time                object\n",
      " 4   visit_number              int64 \n",
      " 5   utm_source                object\n",
      " 6   utm_medium                object\n",
      " 7   utm_campaign              object\n",
      " 8   utm_adcontent             object\n",
      " 9   utm_keyword               object\n",
      " 10  device_category           object\n",
      " 11  device_os                 object\n",
      " 12  device_brand              object\n",
      " 13  device_model              object\n",
      " 14  device_screen_resolution  object\n",
      " 15  device_browser            object\n",
      " 16  geo_country               object\n",
      " 17  geo_city                  object\n",
      "dtypes: int64(1), object(17)\n",
      "memory usage: 255.4+ MB\n"
     ]
    }
   ],
   "execution_count": 4
  },
  {
   "metadata": {},
   "cell_type": "markdown",
   "source": [
    "Не будем подробно останавливаться на описании каждого атрибута из обоих датафреймов, это уже сделано в методических указаниях достаточно полно для поставленной задачи. Однако, следует отметить следующее:\n",
    "1) нам необходимо построить модель для предсказания - совершит ли пользователь целевое действие, - на основании других характеристик датафреймов. Целевая переменная здесь - ga_hits.event_action. Кроме того, характеристики находятся в разных датафреймах, поэтому их следует объединить по ключу session_id\n",
    "2) прежде чем преобразовывать нужные атрибуты в удобный для работы вид, отметим, что по условию задачи нам нужна зависимость целевой переменной только от атрибутов типа utm_*, device_* и geo_*, поэтому другие атрибуты экономнее будет отбросить сразу же - это сильно уменьшит ширину датафреймов и тем самым улучшит производительность при последующих трансформациях\n",
    "3) и вот только после выполнения объединения датафреймов и очистки от лишних атрибутов мы будем оценивать данные и атрибуты полученного датафрейма"
   ],
   "id": "cfee5014fb370b1f"
  },
  {
   "metadata": {
    "ExecuteTime": {
     "end_time": "2025-06-14T20:34:52.027533Z",
     "start_time": "2025-06-14T20:34:51.489260Z"
    }
   },
   "cell_type": "code",
   "source": "df_hits = df_hits[['session_id', 'event_action']]",
   "id": "7da3afe15fd8bbfa",
   "outputs": [],
   "execution_count": 5
  },
  {
   "metadata": {
    "ExecuteTime": {
     "end_time": "2025-06-14T20:34:52.313910Z",
     "start_time": "2025-06-14T20:34:52.073415Z"
    }
   },
   "cell_type": "code",
   "source": "df_sessions = df_sessions.filter(regex='^(session_id|utm_|device_|geo_)', axis=1)",
   "id": "60f295b39d233ce7",
   "outputs": [],
   "execution_count": 6
  },
  {
   "metadata": {
    "ExecuteTime": {
     "end_time": "2025-06-14T20:35:01.507407Z",
     "start_time": "2025-06-14T20:34:52.359466Z"
    }
   },
   "cell_type": "code",
   "source": "df = pd.merge(df_hits, df_sessions, on='session_id', how='left').drop('session_id', axis=1)",
   "id": "3019359ca9e735d8",
   "outputs": [],
   "execution_count": 7
  },
  {
   "metadata": {
    "ExecuteTime": {
     "end_time": "2025-06-14T20:35:01.520292Z",
     "start_time": "2025-06-14T20:35:01.516575Z"
    }
   },
   "cell_type": "code",
   "source": "df.info()",
   "id": "d4b1c9d20a352dd4",
   "outputs": [
    {
     "name": "stdout",
     "output_type": "stream",
     "text": [
      "<class 'pandas.core.frame.DataFrame'>\n",
      "RangeIndex: 15726470 entries, 0 to 15726469\n",
      "Data columns (total 14 columns):\n",
      " #   Column                    Dtype \n",
      "---  ------                    ----- \n",
      " 0   event_action              object\n",
      " 1   utm_source                object\n",
      " 2   utm_medium                object\n",
      " 3   utm_campaign              object\n",
      " 4   utm_adcontent             object\n",
      " 5   utm_keyword               object\n",
      " 6   device_category           object\n",
      " 7   device_os                 object\n",
      " 8   device_brand              object\n",
      " 9   device_model              object\n",
      " 10  device_screen_resolution  object\n",
      " 11  device_browser            object\n",
      " 12  geo_country               object\n",
      " 13  geo_city                  object\n",
      "dtypes: object(14)\n",
      "memory usage: 1.6+ GB\n"
     ]
    }
   ],
   "execution_count": 8
  },
  {
   "metadata": {},
   "cell_type": "markdown",
   "source": [
    "Итак, мы получили итоговый датафрейм, с которым мы будем работать - в нем содержаться только те характеристики, которые указаны в задании, как входные характеристики, зависимость от которых целевой переменной нужно изучить, плюс сама целевая переменная. То есть уже на этапе подготовительной работы мы частично очистили датафрейм - от ненужных полей.\n",
    "Остановимся на группах полей, и оценим в целом - что они из себя представляют, и что мы предполагаем дальше с ними делать. Группа полей utm_* - это поля, описывающие различные источники трафика. Что касается группы device_* - то это описание устройств, с которых выполнялся вход на сайт, установленных на них ОС и браузерах. Группа geo_* - зависимость от страны и города также важны для аналитиков. Однако, следует выполнить очистку данных - заполнение пропусков, поиск зависимостей и удаление коррелирующих переменных.\n",
    "Целевая переменная event_action содержит много вариантов значений, но все их, очевидно, можно разделить на две категории - успешный результат и неуспешный результат, то есть выполнено ли целевое действие на сайте его посетителем. Список успешных целевых значений есть в методических указаниях, мы приведем его позже, когда он понадобится. То есть целевую переменную мы будем преобразовывать из категориальной в бинарную.\n",
    "\n",
    "Вот примерно так выглядит план работы в общих чертах. Если потребуются какие-то корректировки, мы увидим это позже в процессе работы."
   ],
   "id": "7821f4135e45ad25"
  },
  {
   "metadata": {},
   "cell_type": "markdown",
   "source": "## Data preparation",
   "id": "806459f68cd054bb"
  },
  {
   "metadata": {},
   "cell_type": "markdown",
   "source": "Ненужные атрибуты мы уже удалили ранее, теперь посмотрим на общее состояние датафрейма. Описательные характеристики:",
   "id": "34844c01e3dbf8e8"
  },
  {
   "metadata": {
    "ExecuteTime": {
     "end_time": "2025-06-14T20:35:11.494802Z",
     "start_time": "2025-06-14T20:35:01.672566Z"
    }
   },
   "cell_type": "code",
   "source": "df.describe(include='all')",
   "id": "2f050a3fe0913ded",
   "outputs": [
    {
     "data": {
      "text/plain": [
       "       event_action            utm_source utm_medium          utm_campaign  \\\n",
       "count      15726470              15684519   15685219              13486346   \n",
       "unique          230                   280         55                   406   \n",
       "top       view_card  ZpYIoDJMcFzVoPFsHGJL     banner  LTuZkdKfxRGVceoWkVyg   \n",
       "freq        3558985               5151702    4898563               5166521   \n",
       "\n",
       "               utm_adcontent           utm_keyword device_category device_os  \\\n",
       "count               12852801               6480392        15685219   6526837   \n",
       "unique                   280                  1192               3        13   \n",
       "top     JNHcPlZPxEMWDnRiyoBf  puhZPIYqKXeFPaUviSjo          mobile   Android   \n",
       "freq                 9647665               4717082        11595541   3433515   \n",
       "\n",
       "       device_brand          device_model device_screen_resolution  \\\n",
       "count      11739344                122287                 15685219   \n",
       "unique          200                   104                     4947   \n",
       "top           Apple  AuMdmADEIoPXiWpTsBEj                  414x896   \n",
       "freq        4708652                 78321                  1480233   \n",
       "\n",
       "       device_browser geo_country  geo_city  \n",
       "count        15685219    15685219  15685219  \n",
       "unique             55         159      2389  \n",
       "top            Chrome      Russia    Moscow  \n",
       "freq          8197216    15270908   6795118  "
      ],
      "text/html": [
       "<div>\n",
       "<style scoped>\n",
       "    .dataframe tbody tr th:only-of-type {\n",
       "        vertical-align: middle;\n",
       "    }\n",
       "\n",
       "    .dataframe tbody tr th {\n",
       "        vertical-align: top;\n",
       "    }\n",
       "\n",
       "    .dataframe thead th {\n",
       "        text-align: right;\n",
       "    }\n",
       "</style>\n",
       "<table border=\"1\" class=\"dataframe\">\n",
       "  <thead>\n",
       "    <tr style=\"text-align: right;\">\n",
       "      <th></th>\n",
       "      <th>event_action</th>\n",
       "      <th>utm_source</th>\n",
       "      <th>utm_medium</th>\n",
       "      <th>utm_campaign</th>\n",
       "      <th>utm_adcontent</th>\n",
       "      <th>utm_keyword</th>\n",
       "      <th>device_category</th>\n",
       "      <th>device_os</th>\n",
       "      <th>device_brand</th>\n",
       "      <th>device_model</th>\n",
       "      <th>device_screen_resolution</th>\n",
       "      <th>device_browser</th>\n",
       "      <th>geo_country</th>\n",
       "      <th>geo_city</th>\n",
       "    </tr>\n",
       "  </thead>\n",
       "  <tbody>\n",
       "    <tr>\n",
       "      <th>count</th>\n",
       "      <td>15726470</td>\n",
       "      <td>15684519</td>\n",
       "      <td>15685219</td>\n",
       "      <td>13486346</td>\n",
       "      <td>12852801</td>\n",
       "      <td>6480392</td>\n",
       "      <td>15685219</td>\n",
       "      <td>6526837</td>\n",
       "      <td>11739344</td>\n",
       "      <td>122287</td>\n",
       "      <td>15685219</td>\n",
       "      <td>15685219</td>\n",
       "      <td>15685219</td>\n",
       "      <td>15685219</td>\n",
       "    </tr>\n",
       "    <tr>\n",
       "      <th>unique</th>\n",
       "      <td>230</td>\n",
       "      <td>280</td>\n",
       "      <td>55</td>\n",
       "      <td>406</td>\n",
       "      <td>280</td>\n",
       "      <td>1192</td>\n",
       "      <td>3</td>\n",
       "      <td>13</td>\n",
       "      <td>200</td>\n",
       "      <td>104</td>\n",
       "      <td>4947</td>\n",
       "      <td>55</td>\n",
       "      <td>159</td>\n",
       "      <td>2389</td>\n",
       "    </tr>\n",
       "    <tr>\n",
       "      <th>top</th>\n",
       "      <td>view_card</td>\n",
       "      <td>ZpYIoDJMcFzVoPFsHGJL</td>\n",
       "      <td>banner</td>\n",
       "      <td>LTuZkdKfxRGVceoWkVyg</td>\n",
       "      <td>JNHcPlZPxEMWDnRiyoBf</td>\n",
       "      <td>puhZPIYqKXeFPaUviSjo</td>\n",
       "      <td>mobile</td>\n",
       "      <td>Android</td>\n",
       "      <td>Apple</td>\n",
       "      <td>AuMdmADEIoPXiWpTsBEj</td>\n",
       "      <td>414x896</td>\n",
       "      <td>Chrome</td>\n",
       "      <td>Russia</td>\n",
       "      <td>Moscow</td>\n",
       "    </tr>\n",
       "    <tr>\n",
       "      <th>freq</th>\n",
       "      <td>3558985</td>\n",
       "      <td>5151702</td>\n",
       "      <td>4898563</td>\n",
       "      <td>5166521</td>\n",
       "      <td>9647665</td>\n",
       "      <td>4717082</td>\n",
       "      <td>11595541</td>\n",
       "      <td>3433515</td>\n",
       "      <td>4708652</td>\n",
       "      <td>78321</td>\n",
       "      <td>1480233</td>\n",
       "      <td>8197216</td>\n",
       "      <td>15270908</td>\n",
       "      <td>6795118</td>\n",
       "    </tr>\n",
       "  </tbody>\n",
       "</table>\n",
       "</div>"
      ]
     },
     "execution_count": 9,
     "metadata": {},
     "output_type": "execute_result"
    }
   ],
   "execution_count": 9
  },
  {
   "metadata": {},
   "cell_type": "markdown",
   "source": "Мне кажется, что не все эти характеристики вообще интересны для анализа из вполне разумных предположений. Например - вряд ли разрешение экрана или вид браузера имеет какое-то серьезное влияние на целевую переменную, их полезно будет их удалить для сокращения числа анализируемых характеристик. utm метки вполне могут быть все интересны аналитикам - это различная информация о рекламных компаниях, и нужно знать, что именно сработало на результат. Также я удалил бы город, их слишком много, достаточно страны, а корреляция между городом и страной очевидно, что будет слишком высокой, что плохо для будущей модели. Если когда-нибудь потребуется модель с оценкой влияния именно города на целевую переменную, я бы повтороил весь процесс, но уже удалил бы страну, чтобы исключить эту корреляцию, но в одной модели этих двух фич одновременно быть не должно.",
   "id": "8db14d4d51ee62a0"
  },
  {
   "metadata": {
    "ExecuteTime": {
     "end_time": "2025-06-14T20:35:20.406511Z",
     "start_time": "2025-06-14T20:35:11.532510Z"
    }
   },
   "cell_type": "code",
   "source": [
    "df = df.drop(['device_screen_resolution', 'device_browser', 'geo_city'], axis=1)\n",
    "df.describe(include='all')"
   ],
   "id": "e9e88308cb9cf21d",
   "outputs": [
    {
     "data": {
      "text/plain": [
       "       event_action            utm_source utm_medium          utm_campaign  \\\n",
       "count      15726470              15684519   15685219              13486346   \n",
       "unique          230                   280         55                   406   \n",
       "top       view_card  ZpYIoDJMcFzVoPFsHGJL     banner  LTuZkdKfxRGVceoWkVyg   \n",
       "freq        3558985               5151702    4898563               5166521   \n",
       "\n",
       "               utm_adcontent           utm_keyword device_category device_os  \\\n",
       "count               12852801               6480392        15685219   6526837   \n",
       "unique                   280                  1192               3        13   \n",
       "top     JNHcPlZPxEMWDnRiyoBf  puhZPIYqKXeFPaUviSjo          mobile   Android   \n",
       "freq                 9647665               4717082        11595541   3433515   \n",
       "\n",
       "       device_brand          device_model geo_country  \n",
       "count      11739344                122287    15685219  \n",
       "unique          200                   104         159  \n",
       "top           Apple  AuMdmADEIoPXiWpTsBEj      Russia  \n",
       "freq        4708652                 78321    15270908  "
      ],
      "text/html": [
       "<div>\n",
       "<style scoped>\n",
       "    .dataframe tbody tr th:only-of-type {\n",
       "        vertical-align: middle;\n",
       "    }\n",
       "\n",
       "    .dataframe tbody tr th {\n",
       "        vertical-align: top;\n",
       "    }\n",
       "\n",
       "    .dataframe thead th {\n",
       "        text-align: right;\n",
       "    }\n",
       "</style>\n",
       "<table border=\"1\" class=\"dataframe\">\n",
       "  <thead>\n",
       "    <tr style=\"text-align: right;\">\n",
       "      <th></th>\n",
       "      <th>event_action</th>\n",
       "      <th>utm_source</th>\n",
       "      <th>utm_medium</th>\n",
       "      <th>utm_campaign</th>\n",
       "      <th>utm_adcontent</th>\n",
       "      <th>utm_keyword</th>\n",
       "      <th>device_category</th>\n",
       "      <th>device_os</th>\n",
       "      <th>device_brand</th>\n",
       "      <th>device_model</th>\n",
       "      <th>geo_country</th>\n",
       "    </tr>\n",
       "  </thead>\n",
       "  <tbody>\n",
       "    <tr>\n",
       "      <th>count</th>\n",
       "      <td>15726470</td>\n",
       "      <td>15684519</td>\n",
       "      <td>15685219</td>\n",
       "      <td>13486346</td>\n",
       "      <td>12852801</td>\n",
       "      <td>6480392</td>\n",
       "      <td>15685219</td>\n",
       "      <td>6526837</td>\n",
       "      <td>11739344</td>\n",
       "      <td>122287</td>\n",
       "      <td>15685219</td>\n",
       "    </tr>\n",
       "    <tr>\n",
       "      <th>unique</th>\n",
       "      <td>230</td>\n",
       "      <td>280</td>\n",
       "      <td>55</td>\n",
       "      <td>406</td>\n",
       "      <td>280</td>\n",
       "      <td>1192</td>\n",
       "      <td>3</td>\n",
       "      <td>13</td>\n",
       "      <td>200</td>\n",
       "      <td>104</td>\n",
       "      <td>159</td>\n",
       "    </tr>\n",
       "    <tr>\n",
       "      <th>top</th>\n",
       "      <td>view_card</td>\n",
       "      <td>ZpYIoDJMcFzVoPFsHGJL</td>\n",
       "      <td>banner</td>\n",
       "      <td>LTuZkdKfxRGVceoWkVyg</td>\n",
       "      <td>JNHcPlZPxEMWDnRiyoBf</td>\n",
       "      <td>puhZPIYqKXeFPaUviSjo</td>\n",
       "      <td>mobile</td>\n",
       "      <td>Android</td>\n",
       "      <td>Apple</td>\n",
       "      <td>AuMdmADEIoPXiWpTsBEj</td>\n",
       "      <td>Russia</td>\n",
       "    </tr>\n",
       "    <tr>\n",
       "      <th>freq</th>\n",
       "      <td>3558985</td>\n",
       "      <td>5151702</td>\n",
       "      <td>4898563</td>\n",
       "      <td>5166521</td>\n",
       "      <td>9647665</td>\n",
       "      <td>4717082</td>\n",
       "      <td>11595541</td>\n",
       "      <td>3433515</td>\n",
       "      <td>4708652</td>\n",
       "      <td>78321</td>\n",
       "      <td>15270908</td>\n",
       "    </tr>\n",
       "  </tbody>\n",
       "</table>\n",
       "</div>"
      ]
     },
     "execution_count": 10,
     "metadata": {},
     "output_type": "execute_result"
    }
   ],
   "execution_count": 10
  },
  {
   "metadata": {},
   "cell_type": "markdown",
   "source": [
    "в целом видно, что для многих характеристик слишком много уникальных значений, недостаточно информативно, чтобы понять, какие есть пропуски и недопустимые значение, аналогичные пропускам, и что с ними делать\n",
    "попробуем взглянуть на характеристики поподробнее:"
   ],
   "id": "a4e4d0bff628038f"
  },
  {
   "metadata": {
    "ExecuteTime": {
     "end_time": "2025-06-14T20:35:33.806886Z",
     "start_time": "2025-06-14T20:35:20.426377Z"
    }
   },
   "cell_type": "code",
   "source": [
    "for col_name, data in df.items():\n",
    "    print(f'Характеристика: {col_name}')\n",
    "    unique_values = data.unique().size\n",
    "    print(f'Количество уникальных значений: {unique_values}')\n",
    "\n",
    "    group = data.groupby(by=data, dropna=False).count()\n",
    "    print('Список значений:')\n",
    "    print(group)\n",
    "    print()"
   ],
   "id": "e748bcf25b29ed52",
   "outputs": [
    {
     "name": "stdout",
     "output_type": "stream",
     "text": [
      "Характеристика: event_action\n",
      "Количество уникальных значений: 230\n",
      "Список значений:\n",
      "event_action\n",
      "add_ad_btn                      749\n",
      "analystlabel                  40441\n",
      "auto_subscription_click        5939\n",
      "automatic_return_to_chat       2751\n",
      "back_to_change_phone            181\n",
      "                             ...   \n",
      "user_message                   4431\n",
      "view_card                   3558985\n",
      "view_more_click              109971\n",
      "view_new_card               3551009\n",
      "view_used_card                 5304\n",
      "Name: event_action, Length: 230, dtype: int64\n",
      "\n",
      "Характеристика: utm_source\n",
      "Количество уникальных значений: 281\n",
      "Список значений:\n",
      "utm_source\n",
      "AHgbtEjTEsiUMJouiDYS     113\n",
      "ANoZJgYuPrWNkAAchryx     280\n",
      "ArbfvYgWhqxkzywKqpQf     106\n",
      "AuJjYKxJakEqFnCmyFtz      22\n",
      "BAZCuyHZnaPrMGOMrcCQ       2\n",
      "                        ... \n",
      "zPJpddwzkFqLMSYgtDqy       1\n",
      "zhqxcsahQYAzJvRzebNp     133\n",
      "zslzdtckVsyxcYqKBRRn      31\n",
      "zwpKjjsMoRVCdipntaHt    1890\n",
      "NaN                        0\n",
      "Name: utm_source, Length: 281, dtype: int64\n",
      "\n",
      "Характеристика: utm_medium\n",
      "Количество уникальных значений: 56\n",
      "Список значений:\n",
      "utm_medium\n",
      "(none)               3250926\n",
      "(not set)               4555\n",
      "CPM                      412\n",
      "Sbol_catalog               1\n",
      "app                     3806\n",
      "article                   86\n",
      "banner               4898563\n",
      "blogger_channel        87087\n",
      "blogger_header          2888\n",
      "blogger_stories        33068\n",
      "catalogue                  5\n",
      "cbaafe                   110\n",
      "clicks                  8988\n",
      "cpa                    31586\n",
      "cpc                  3300503\n",
      "cpm                   738765\n",
      "cpv                    27395\n",
      "dom_click                  5\n",
      "email                 241084\n",
      "fb_smm                    90\n",
      "google_cpc               127\n",
      "info_text               3401\n",
      "landing                 1069\n",
      "landing_interests         12\n",
      "last                       4\n",
      "link                     372\n",
      "linktest                   3\n",
      "main_polka                22\n",
      "medium                   153\n",
      "nkp                       49\n",
      "ok_smm                    36\n",
      "organic               646182\n",
      "outlook                14702\n",
      "partner                  582\n",
      "post                   21531\n",
      "promo_sber                 4\n",
      "promo_sbol                 2\n",
      "push                  252864\n",
      "qr                         1\n",
      "qrcodevideo                8\n",
      "reach                      3\n",
      "referral             1920459\n",
      "sber_app                  20\n",
      "smartbanner            49146\n",
      "smm                    12388\n",
      "sms                     2051\n",
      "social                    35\n",
      "static                   132\n",
      "stories                95604\n",
      "tablet                     1\n",
      "tg                     33822\n",
      "users_msk                  7\n",
      "vk_smm                   211\n",
      "web_polka                 46\n",
      "yandex_cpc               247\n",
      "NaN                        0\n",
      "Name: utm_medium, dtype: int64\n",
      "\n",
      "Характеристика: utm_campaign\n",
      "Количество уникальных значений: 407\n",
      "Список значений:\n",
      "utm_campaign\n",
      "AdtHYglxfCpTpwZeTAuW         1\n",
      "AqudXfUnmXWSDWVGYaXr      5413\n",
      "BAZCuyHZnaPrMGOMrcCQ      3221\n",
      "BHcvLfOaCWvWTykYqHVe       253\n",
      "BHqsCPwtnpaQSryaVXya       116\n",
      "                         ...  \n",
      "zhmDvzviWNMgxXuZASKu         9\n",
      "zmnpxOKDENholtspXiGy      6405\n",
      "zxoiLxhuSIFrCeTLQVWZ    115156\n",
      "zzcBKEnbRkpqxqrfLtUQ       544\n",
      "NaN                          0\n",
      "Name: utm_campaign, Length: 407, dtype: int64\n",
      "\n",
      "Характеристика: utm_adcontent\n",
      "Количество уникальных значений: 281\n",
      "Список значений:\n",
      "utm_adcontent\n",
      "AByCsfZNGxnFrQkYzVAq      222\n",
      "AIONnJpjXjEluFHEjOyg     5135\n",
      "AREbWGOhRGJXAffGqZTc      157\n",
      "AbzcnvSMiZVQpjoceeKU     1998\n",
      "AdeErYgVTbRcAWtHrMHq    27734\n",
      "                        ...  \n",
      "zEHnFIjqNyjvDvXKeMqx     1101\n",
      "zQEFTgQvqExfbldEpotc       16\n",
      "zjrfBVIiQQBGguNcgGog       11\n",
      "zpkCOCjptAAOxrlaKYsq       44\n",
      "NaN                         0\n",
      "Name: utm_adcontent, Length: 281, dtype: int64\n",
      "\n",
      "Характеристика: utm_keyword\n",
      "Количество уникальных значений: 1193\n",
      "Список значений:\n",
      "utm_keyword\n",
      "AAAErobiSFtAsFTjJzGU        6\n",
      "AGvpnOtmSKiTOXWuLIrD        1\n",
      "AHgbtEjTEsiUMJouiDYS      372\n",
      "ANoZJgYuPrWNkAAchryx      801\n",
      "AOIxUCLuCjwgydJkOLWI    14392\n",
      "                        ...  \n",
      "zwpKjjsMoRVCdipntaHt       49\n",
      "zxoiLxhuSIFrCeTLQVWZ       16\n",
      "zzSZlxHwXHhatAMitkXB     3088\n",
      "zzcBKEnbRkpqxqrfLtUQ       85\n",
      "NaN                         0\n",
      "Name: utm_keyword, Length: 1193, dtype: int64\n",
      "\n",
      "Характеристика: device_category\n",
      "Количество уникальных значений: 4\n",
      "Список значений:\n",
      "device_category\n",
      "desktop     3945254\n",
      "mobile     11595541\n",
      "tablet       144424\n",
      "NaN               0\n",
      "Name: device_category, dtype: int64\n",
      "\n",
      "Характеристика: device_os\n",
      "Количество уникальных значений: 14\n",
      "Список значений:\n",
      "device_os\n",
      "(not set)            448\n",
      "Android          3433515\n",
      "BlackBerry           211\n",
      "Chrome OS            360\n",
      "Firefox OS            37\n",
      "Linux              30932\n",
      "Macintosh         309734\n",
      "Nokia                 12\n",
      "Samsung                2\n",
      "Tizen                 99\n",
      "Windows          1015524\n",
      "Windows Phone          7\n",
      "iOS              1735956\n",
      "NaN                    0\n",
      "Name: device_os, dtype: int64\n",
      "\n",
      "Характеристика: device_brand\n",
      "Количество уникальных значений: 201\n",
      "Список значений:\n",
      "device_brand\n",
      "(not set)    132775\n",
      "A1               25\n",
      "AGM             282\n",
      "AT&T              8\n",
      "Acer            243\n",
      "              ...  \n",
      "iNew            178\n",
      "itel           6629\n",
      "myPhone           5\n",
      "teXet             2\n",
      "NaN               0\n",
      "Name: device_brand, Length: 201, dtype: int64\n",
      "\n",
      "Характеристика: device_model\n",
      "Количество уникальных значений: 105\n",
      "Список значений:\n",
      "device_model\n",
      "AshpvdJdReafUzEMmWGr     1048\n",
      "AuMdmADEIoPXiWpTsBEj    78321\n",
      "BhXucgFEfQMgSWpyKikP      162\n",
      "CHEgAchdlTbIOcHAYzGk       43\n",
      "CwplVZElsIzdKfSTHwma      298\n",
      "                        ...  \n",
      "xZYEHLyYdGXkJENJpTtu      437\n",
      "zFCiMWkbbAhTflrlLWnz     1484\n",
      "zcovoWIWBZLooJXEJyTD       13\n",
      "zjEebiuHyqSWFKMwbgwQ      106\n",
      "NaN                         0\n",
      "Name: device_model, Length: 105, dtype: int64\n",
      "\n",
      "Характеристика: geo_country\n",
      "Количество уникальных значений: 160\n",
      "Список значений:\n",
      "geo_country\n",
      "(not set)          11222\n",
      "Afghanistan          373\n",
      "Albania              186\n",
      "Algeria              291\n",
      "Andorra               66\n",
      "                   ...  \n",
      "Vietnam              677\n",
      "Wallis & Futuna      114\n",
      "Yemen                  3\n",
      "Zimbabwe              33\n",
      "NaN                    0\n",
      "Name: geo_country, Length: 160, dtype: int64\n",
      "\n"
     ]
    }
   ],
   "execution_count": 11
  },
  {
   "metadata": {},
   "cell_type": "markdown",
   "source": "Обработаем отдельные столбцы различными способами, чтобы заполнить недостающие данные, либо отбросить несущественные для анализа. Те столбцы, у которых нет значений NaN или аналогичных им, пропустим и рассматривать не будем - с ними ничего не нужно делать.",
   "id": "413386eab4810bc"
  },
  {
   "metadata": {
    "ExecuteTime": {
     "end_time": "2025-06-14T20:35:37.974450Z",
     "start_time": "2025-06-14T20:35:33.826467Z"
    }
   },
   "cell_type": "code",
   "source": [
    "# для utm_medium заменим значения (none) и (not set) на наиболее частое значение\n",
    "df.loc[(df.utm_medium == '(none)') | (df.utm_medium == '(not set)')] = df.utm_medium.describe().top\n",
    "df.utm_medium.value_counts()"
   ],
   "id": "e430f8ef886bfbb3",
   "outputs": [
    {
     "data": {
      "text/plain": [
       "utm_medium\n",
       "banner               8154044\n",
       "cpc                  3300503\n",
       "referral             1920459\n",
       "cpm                   738765\n",
       "organic               646182\n",
       "push                  252864\n",
       "email                 241084\n",
       "stories                95604\n",
       "blogger_channel        87087\n",
       "smartbanner            49146\n",
       "tg                     33822\n",
       "blogger_stories        33068\n",
       "cpa                    31586\n",
       "cpv                    27395\n",
       "post                   21531\n",
       "outlook                14702\n",
       "smm                    12388\n",
       "clicks                  8988\n",
       "app                     3806\n",
       "info_text               3401\n",
       "blogger_header          2888\n",
       "sms                     2051\n",
       "landing                 1069\n",
       "partner                  582\n",
       "CPM                      412\n",
       "link                     372\n",
       "yandex_cpc               247\n",
       "vk_smm                   211\n",
       "medium                   153\n",
       "static                   132\n",
       "google_cpc               127\n",
       "cbaafe                   110\n",
       "fb_smm                    90\n",
       "article                   86\n",
       "nkp                       49\n",
       "web_polka                 46\n",
       "ok_smm                    36\n",
       "social                    35\n",
       "main_polka                22\n",
       "sber_app                  20\n",
       "landing_interests         12\n",
       "qrcodevideo                8\n",
       "users_msk                  7\n",
       "catalogue                  5\n",
       "dom_click                  5\n",
       "promo_sber                 4\n",
       "last                       4\n",
       "reach                      3\n",
       "linktest                   3\n",
       "promo_sbol                 2\n",
       "Sbol_catalog               1\n",
       "qr                         1\n",
       "tablet                     1\n",
       "Name: count, dtype: int64"
      ]
     },
     "execution_count": 12,
     "metadata": {},
     "output_type": "execute_result"
    }
   ],
   "execution_count": 12
  },
  {
   "metadata": {
    "ExecuteTime": {
     "end_time": "2025-06-14T20:35:40.645564Z",
     "start_time": "2025-06-14T20:35:37.992229Z"
    }
   },
   "cell_type": "code",
   "source": [
    "# для device_os сделаем то же самое\n",
    "df.loc[df.device_os == '(not set)'] = df.device_os.describe().top\n",
    "df.device_os.value_counts()"
   ],
   "id": "d19197cb014fe654",
   "outputs": [
    {
     "data": {
      "text/plain": [
       "device_os\n",
       "banner           3255616\n",
       "Android          3251809\n",
       "iOS              1453258\n",
       "Windows           819302\n",
       "Macintosh         242857\n",
       "Linux              27798\n",
       "Chrome OS            299\n",
       "BlackBerry           210\n",
       "Tizen                 93\n",
       "Firefox OS            37\n",
       "Nokia                 12\n",
       "Windows Phone          7\n",
       "Samsung                1\n",
       "Name: count, dtype: int64"
      ]
     },
     "execution_count": 13,
     "metadata": {},
     "output_type": "execute_result"
    }
   ],
   "execution_count": 13
  },
  {
   "metadata": {
    "ExecuteTime": {
     "end_time": "2025-06-14T20:35:43.802133Z",
     "start_time": "2025-06-14T20:35:40.686319Z"
    }
   },
   "cell_type": "code",
   "source": [
    "# то же самое для device_brand\n",
    "df.loc[df.device_brand == '(not set)'] = df.device_brand.describe().top\n",
    "df.device_brand.value_counts()"
   ],
   "id": "f3835823b1676658",
   "outputs": [
    {
     "data": {
      "text/plain": [
       "device_brand\n",
       "Apple        3541163\n",
       "banner       3255616\n",
       "Samsung      2277133\n",
       "Xiaomi       1801481\n",
       "Huawei       1195003\n",
       "              ...   \n",
       "Hafury             1\n",
       "Maxvi              1\n",
       "Maze               1\n",
       "Microsoft          1\n",
       "Honeywell          1\n",
       "Name: count, Length: 196, dtype: int64"
      ]
     },
     "execution_count": 14,
     "metadata": {},
     "output_type": "execute_result"
    }
   ],
   "execution_count": 14
  },
  {
   "metadata": {
    "ExecuteTime": {
     "end_time": "2025-06-14T20:35:46.977163Z",
     "start_time": "2025-06-14T20:35:43.833267Z"
    }
   },
   "cell_type": "code",
   "source": [
    "# то же самое для geo_country\n",
    "df.loc[df.geo_country == '(not set)'] = df.geo_country.describe().top\n",
    "df.geo_country.value_counts()"
   ],
   "id": "e4c058619c71089f",
   "outputs": [
    {
     "data": {
      "text/plain": [
       "geo_country\n",
       "Russia                      12026698\n",
       "banner                       3255616\n",
       "Apple                         120003\n",
       "Ukraine                        57279\n",
       "United States                  25511\n",
       "                              ...   \n",
       "Guinea                             1\n",
       "Laos                               1\n",
       "Central African Republic           1\n",
       "Paraguay                           1\n",
       "Puerto Rico                        1\n",
       "Name: count, Length: 157, dtype: int64"
      ]
     },
     "execution_count": 15,
     "metadata": {},
     "output_type": "execute_result"
    }
   ],
   "execution_count": 15
  },
  {
   "metadata": {
    "ExecuteTime": {
     "end_time": "2025-06-14T20:35:55.045267Z",
     "start_time": "2025-06-14T20:35:47.018139Z"
    }
   },
   "cell_type": "code",
   "source": [
    "# в итоге получим\n",
    "df.describe(include='all')"
   ],
   "id": "7db6d4e222535434",
   "outputs": [
    {
     "data": {
      "text/plain": [
       "       event_action            utm_source utm_medium utm_campaign  \\\n",
       "count      15726470              15684758   15685219     13499298   \n",
       "unique          232                   274         55          409   \n",
       "top          banner  ZpYIoDJMcFzVoPFsHGJL     banner       banner   \n",
       "freq        3255616               5077844    8083790      3255616   \n",
       "\n",
       "               utm_adcontent           utm_keyword device_category device_os  \\\n",
       "count               12868920               9055960        15685219   9101822   \n",
       "unique                   283                  1194               6        14   \n",
       "top     JNHcPlZPxEMWDnRiyoBf  puhZPIYqKXeFPaUviSjo          mobile    banner   \n",
       "freq                 6327294               3922987         9310341   3255616   \n",
       "\n",
       "       device_brand device_model geo_country  \n",
       "count      12804175      3425044    15685219  \n",
       "unique          197          104         157  \n",
       "top           Apple       banner      Russia  \n",
       "freq        3539363      3255616    12026698  "
      ],
      "text/html": [
       "<div>\n",
       "<style scoped>\n",
       "    .dataframe tbody tr th:only-of-type {\n",
       "        vertical-align: middle;\n",
       "    }\n",
       "\n",
       "    .dataframe tbody tr th {\n",
       "        vertical-align: top;\n",
       "    }\n",
       "\n",
       "    .dataframe thead th {\n",
       "        text-align: right;\n",
       "    }\n",
       "</style>\n",
       "<table border=\"1\" class=\"dataframe\">\n",
       "  <thead>\n",
       "    <tr style=\"text-align: right;\">\n",
       "      <th></th>\n",
       "      <th>event_action</th>\n",
       "      <th>utm_source</th>\n",
       "      <th>utm_medium</th>\n",
       "      <th>utm_campaign</th>\n",
       "      <th>utm_adcontent</th>\n",
       "      <th>utm_keyword</th>\n",
       "      <th>device_category</th>\n",
       "      <th>device_os</th>\n",
       "      <th>device_brand</th>\n",
       "      <th>device_model</th>\n",
       "      <th>geo_country</th>\n",
       "    </tr>\n",
       "  </thead>\n",
       "  <tbody>\n",
       "    <tr>\n",
       "      <th>count</th>\n",
       "      <td>15726470</td>\n",
       "      <td>15684758</td>\n",
       "      <td>15685219</td>\n",
       "      <td>13499298</td>\n",
       "      <td>12868920</td>\n",
       "      <td>9055960</td>\n",
       "      <td>15685219</td>\n",
       "      <td>9101822</td>\n",
       "      <td>12804175</td>\n",
       "      <td>3425044</td>\n",
       "      <td>15685219</td>\n",
       "    </tr>\n",
       "    <tr>\n",
       "      <th>unique</th>\n",
       "      <td>232</td>\n",
       "      <td>274</td>\n",
       "      <td>55</td>\n",
       "      <td>409</td>\n",
       "      <td>283</td>\n",
       "      <td>1194</td>\n",
       "      <td>6</td>\n",
       "      <td>14</td>\n",
       "      <td>197</td>\n",
       "      <td>104</td>\n",
       "      <td>157</td>\n",
       "    </tr>\n",
       "    <tr>\n",
       "      <th>top</th>\n",
       "      <td>banner</td>\n",
       "      <td>ZpYIoDJMcFzVoPFsHGJL</td>\n",
       "      <td>banner</td>\n",
       "      <td>banner</td>\n",
       "      <td>JNHcPlZPxEMWDnRiyoBf</td>\n",
       "      <td>puhZPIYqKXeFPaUviSjo</td>\n",
       "      <td>mobile</td>\n",
       "      <td>banner</td>\n",
       "      <td>Apple</td>\n",
       "      <td>banner</td>\n",
       "      <td>Russia</td>\n",
       "    </tr>\n",
       "    <tr>\n",
       "      <th>freq</th>\n",
       "      <td>3255616</td>\n",
       "      <td>5077844</td>\n",
       "      <td>8083790</td>\n",
       "      <td>3255616</td>\n",
       "      <td>6327294</td>\n",
       "      <td>3922987</td>\n",
       "      <td>9310341</td>\n",
       "      <td>3255616</td>\n",
       "      <td>3539363</td>\n",
       "      <td>3255616</td>\n",
       "      <td>12026698</td>\n",
       "    </tr>\n",
       "  </tbody>\n",
       "</table>\n",
       "</div>"
      ]
     },
     "execution_count": 16,
     "metadata": {},
     "output_type": "execute_result"
    }
   ],
   "execution_count": 16
  },
  {
   "metadata": {},
   "cell_type": "markdown",
   "source": "Оценим также данные на предмет полноты и наличия дубликатов",
   "id": "dc994a987f563294"
  },
  {
   "metadata": {
    "ExecuteTime": {
     "end_time": "2025-06-14T20:36:00.563960Z",
     "start_time": "2025-06-14T20:35:55.134424Z"
    }
   },
   "cell_type": "code",
   "source": [
    "print(df.index.size)\n",
    "num_duplicates = df.duplicated().sum()\n",
    "print(num_duplicates)"
   ],
   "id": "6407df5d36216b22",
   "outputs": [
    {
     "name": "stdout",
     "output_type": "stream",
     "text": [
      "15726470\n",
      "15436197\n"
     ]
    }
   ],
   "execution_count": 17
  },
  {
   "metadata": {},
   "cell_type": "markdown",
   "source": "Полных дубликатов достаточно много, будем удалять",
   "id": "e7b5e6ee93d5b852"
  },
  {
   "metadata": {
    "ExecuteTime": {
     "end_time": "2025-06-14T20:36:06.157092Z",
     "start_time": "2025-06-14T20:36:00.613738Z"
    }
   },
   "cell_type": "code",
   "source": [
    "df = df.drop_duplicates()\n",
    "print(df.index.size)"
   ],
   "id": "d3bc4f3c1af7bd5",
   "outputs": [
    {
     "name": "stdout",
     "output_type": "stream",
     "text": [
      "290273\n"
     ]
    }
   ],
   "execution_count": 18
  },
  {
   "metadata": {},
   "cell_type": "markdown",
   "source": "Попробуем оценить, нет ли у нас в характеристиках корреляций, что указывало бы нам, что некоторые из них можно было бы и нужно удалить.",
   "id": "fd38c159c28a89d9"
  },
  {
   "metadata": {
    "ExecuteTime": {
     "end_time": "2025-06-14T20:36:06.196415Z",
     "start_time": "2025-06-14T20:36:06.175867Z"
    }
   },
   "cell_type": "code",
   "source": [
    "key_features = df.columns.drop('event_action')\n",
    "df_key_features = df[key_features]"
   ],
   "id": "5e15557d15ddf2c2",
   "outputs": [],
   "execution_count": 19
  },
  {
   "metadata": {},
   "cell_type": "markdown",
   "source": "Также выведем, какие ключевые фичи нам нужны для моделирования до трансформаций. На данном этапе это нам как будто бы и не нужно явно, но их список пригодится нам уже на этапе подготовки сервиса для составления класса Form, отвечающего за формат входных данных в сервисе. Причем, на вход сервиса фичи должны приходит в исходном удобном для человека виде, а не такими, какими они будут после кодирования.",
   "id": "ae6154b578e088bb"
  },
  {
   "metadata": {
    "ExecuteTime": {
     "end_time": "2025-06-15T05:50:06.573356Z",
     "start_time": "2025-06-15T05:50:06.569846Z"
    }
   },
   "cell_type": "code",
   "source": "df.columns",
   "id": "c62e8d63fb911d05",
   "outputs": [
    {
     "data": {
      "text/plain": [
       "Index(['event_action', 'utm_source', 'utm_medium', 'utm_campaign',\n",
       "       'utm_adcontent', 'utm_keyword', 'device_category', 'device_os',\n",
       "       'device_brand', 'device_model', 'geo_country'],\n",
       "      dtype='object')"
      ]
     },
     "execution_count": 31,
     "metadata": {},
     "output_type": "execute_result"
    }
   ],
   "execution_count": 31
  },
  {
   "metadata": {
    "ExecuteTime": {
     "end_time": "2025-06-14T21:17:20.709344Z",
     "start_time": "2025-06-14T20:36:06.385238Z"
    }
   },
   "cell_type": "code",
   "source": [
    "# Подготовим матрицу корреляци\n",
    "ohe = OneHotEncoder(sparse_output=False)\n",
    "ohe.fit(df_key_features)\n",
    "ohe_transformed = ohe.transform(df_key_features)\n",
    "df_key_features[ohe.get_feature_names_out()] = ohe_transformed\n",
    "df_key_features.drop(key_features, axis=1, inplace=True)\n",
    "# чтобы вся эта ячейка работала нормально, нужно не забыть увеличить в настройках pycharm выделяемую память, я поставил у себя Xmx=24g, в противном случае подсчет может упасть при нехватке ОП\n",
    "corr = df_key_features.corr()"
   ],
   "id": "8fc54714eb6e23c3",
   "outputs": [],
   "execution_count": 21
  },
  {
   "metadata": {},
   "cell_type": "markdown",
   "source": "Теперь оценим, сколько у нас получилось ключевых фич уже после их кодирования",
   "id": "6d114e34bf7480af"
  },
  {
   "metadata": {
    "ExecuteTime": {
     "end_time": "2025-06-14T21:17:20.790836Z",
     "start_time": "2025-06-14T21:17:20.785052Z"
    }
   },
   "cell_type": "code",
   "source": "print(df_key_features.columns.size)",
   "id": "2cfcd60a396ffec8",
   "outputs": [
    {
     "name": "stdout",
     "output_type": "stream",
     "text": [
      "2703\n"
     ]
    }
   ],
   "execution_count": 22
  },
  {
   "metadata": {},
   "cell_type": "markdown",
   "source": "Характеристик слишком много, чтобы их можно было нормально визуализировать - таблица корреляций просто не поместится на странице. Следовательно, необходимо проверить их на возможные корреляции аналитическим способом.",
   "id": "e9c0b378ace6ba5"
  },
  {
   "metadata": {
    "ExecuteTime": {
     "end_time": "2025-06-14T21:17:49.393Z",
     "start_time": "2025-06-14T21:17:21.466647Z"
    }
   },
   "cell_type": "code",
   "source": [
    "threshold = 0.6  # мой порог корреляции, обычный, но если нужно, можно сделать и больше\n",
    "corr_pairs = []\n",
    "\n",
    "# Получаем имена столбцов\n",
    "columns = corr.columns\n",
    "\n",
    "# Перебираем только верхний треугольник матрицы (без диагонали)\n",
    "for i in range(len(columns)):\n",
    "    for j in range(i+1, len(columns)):\n",
    "        corr_value = corr.iloc[i, j]\n",
    "        if abs(corr_value) > threshold:\n",
    "            corr_pairs.append((columns[i], columns[j], round(corr_value, 3)))\n",
    "\n",
    "# Сортируем по модулю корреляции (по убыванию)\n",
    "corr_pairs_sorted = sorted(corr_pairs, key=lambda x: abs(x[2]), reverse=True)\n",
    "\n",
    "# Выводим результат\n",
    "for i, pair in enumerate(corr_pairs_sorted):\n",
    "    print(f\"{i}: {pair[0]} vs {pair[1]}: {pair[2]}\")"
   ],
   "id": "7718530868d5c55d",
   "outputs": [
    {
     "name": "stdout",
     "output_type": "stream",
     "text": [
      "0: utm_source_Apple vs utm_medium_Apple: 1.0\n",
      "1: utm_source_Apple vs utm_campaign_Apple: 1.0\n",
      "2: utm_source_Apple vs utm_adcontent_Apple: 1.0\n",
      "3: utm_source_Apple vs utm_keyword_Apple: 1.0\n",
      "4: utm_source_Apple vs device_category_Apple: 1.0\n",
      "5: utm_source_Apple vs device_os_Apple: 1.0\n",
      "6: utm_source_Apple vs device_model_Apple: 1.0\n",
      "7: utm_source_Apple vs geo_country_Apple: 1.0\n",
      "8: utm_source_AuJjYKxJakEqFnCmyFtz vs utm_medium_main_polka: 1.0\n",
      "9: utm_source_DnxUhHWInKVDAWzwROOC vs utm_campaign_niQdLVcBlNylrEuNcCYH: 1.0\n",
      "10: utm_source_FArFiZMprRBKpQtJYEPL vs utm_adcontent_iFkBdFFnWCaZkKWtuXJi: 1.0\n",
      "11: utm_source_LIWKeifdTCbuNeniIUqm vs utm_medium_link: 1.0\n",
      "12: utm_source_LigOnUObPodLDexszDtn vs utm_medium_qr: 1.0\n",
      "13: utm_source_LigOnUObPodLDexszDtn vs utm_campaign_RkpOyeEPgcMBSDuHLQcj: 1.0\n",
      "14: utm_source_Russia vs utm_medium_Russia: 1.0\n",
      "15: utm_source_Russia vs utm_campaign_Russia: 1.0\n",
      "16: utm_source_Russia vs utm_adcontent_Russia: 1.0\n",
      "17: utm_source_Russia vs utm_keyword_Russia: 1.0\n",
      "18: utm_source_Russia vs device_category_Russia: 1.0\n",
      "19: utm_source_Russia vs device_os_Russia: 1.0\n",
      "20: utm_source_Russia vs device_brand_Russia: 1.0\n",
      "21: utm_source_Russia vs device_model_Russia: 1.0\n",
      "22: utm_source_YlsczTIyBSwTLNtuDkCd vs utm_medium_outlook: 1.0\n",
      "23: utm_source_ZsHOHNXkbhgIDlKNiFMf vs utm_campaign_zFCiMWkbbAhTflrlLWnz: 1.0\n",
      "24: utm_source_banner vs utm_campaign_banner: 1.0\n",
      "25: utm_source_banner vs utm_adcontent_banner: 1.0\n",
      "26: utm_source_banner vs utm_keyword_banner: 1.0\n",
      "27: utm_source_banner vs device_category_banner: 1.0\n",
      "28: utm_source_banner vs device_os_banner: 1.0\n",
      "29: utm_source_banner vs device_brand_banner: 1.0\n",
      "30: utm_source_banner vs device_model_banner: 1.0\n",
      "31: utm_source_banner vs geo_country_banner: 1.0\n",
      "32: utm_source_cAqxcRdSSFAyCPUxQHqy vs utm_medium_info_text: 1.0\n",
      "33: utm_source_cAqxcRdSSFAyCPUxQHqy vs utm_campaign_yCnTwlCLkqZHwAglrEll: 1.0\n",
      "34: utm_source_cAqxcRdSSFAyCPUxQHqy vs utm_adcontent_OJiWyBKOyDITzXCZRSMH: 1.0\n",
      "35: utm_source_cAqxcRdSSFAyCPUxQHqy vs utm_keyword_APGNmHDNvDcuqsaRbeNw: 1.0\n",
      "36: utm_source_dGlVSdmIlgWDyOPjfwwy vs utm_medium_partner: 1.0\n",
      "37: utm_source_eFGuYtbktaqRjJGmKrgt vs utm_campaign_BuVfXQUpDeZxcCIozRZm: 1.0\n",
      "38: utm_source_eFGuYtbktaqRjJGmKrgt vs utm_adcontent_IcLcclbnECGqvCQgOdET: 1.0\n",
      "39: utm_source_fJCYsujgSxIHFbOmgDdN vs utm_campaign_IRKNegNgOUQLwudzMElF: 1.0\n",
      "40: utm_source_fJCYsujgSxIHFbOmgDdN vs utm_adcontent_ghufNFaaSqCETrIZcgal: 1.0\n",
      "41: utm_source_gLXXuZYbFVYlDWhMmZiU vs utm_medium_medium: 1.0\n",
      "42: utm_source_kKtSojgDlfomwthXhPjz vs utm_medium_last: 1.0\n",
      "43: utm_source_nDmmJsJyAFLtSzhkbNao vs utm_medium_promo_sber: 1.0\n",
      "44: utm_source_qkJqOqfMTtlyzUhWxuhL vs utm_medium_linktest: 1.0\n",
      "45: utm_source_sOTrgtUMUuYzzWBPLeFQ vs utm_campaign_FrZxVhBshHjYZTtbPhxK: 1.0\n",
      "46: utm_source_tasNSXvMCFllwbrJviyg vs utm_medium_qrcodevideo: 1.0\n",
      "47: utm_source_tasNSXvMCFllwbrJviyg vs utm_campaign_dITetAFbdxWiRaArKHRu: 1.0\n",
      "48: utm_source_tasNSXvMCFllwbrJviyg vs utm_adcontent_izFaiVJBdrbEvBjAmFlH: 1.0\n",
      "49: utm_source_vGkKzmIaNOfwjXAcmSxP vs utm_campaign_xKilurCKKiYaehWwdleb: 1.0\n",
      "50: utm_medium_Apple vs utm_campaign_Apple: 1.0\n",
      "51: utm_medium_Apple vs utm_adcontent_Apple: 1.0\n",
      "52: utm_medium_Apple vs utm_keyword_Apple: 1.0\n",
      "53: utm_medium_Apple vs device_category_Apple: 1.0\n",
      "54: utm_medium_Apple vs device_os_Apple: 1.0\n",
      "55: utm_medium_Apple vs device_model_Apple: 1.0\n",
      "56: utm_medium_Apple vs geo_country_Apple: 1.0\n",
      "57: utm_medium_Russia vs utm_campaign_Russia: 1.0\n",
      "58: utm_medium_Russia vs utm_adcontent_Russia: 1.0\n",
      "59: utm_medium_Russia vs utm_keyword_Russia: 1.0\n",
      "60: utm_medium_Russia vs device_category_Russia: 1.0\n",
      "61: utm_medium_Russia vs device_os_Russia: 1.0\n",
      "62: utm_medium_Russia vs device_brand_Russia: 1.0\n",
      "63: utm_medium_Russia vs device_model_Russia: 1.0\n",
      "64: utm_medium_catalogue vs utm_campaign_opDQAVOMtCAjZrYyRdJb: 1.0\n",
      "65: utm_medium_dom_click vs utm_campaign_MHdHrBKQwbDaRalwnlJq: 1.0\n",
      "66: utm_medium_info_text vs utm_campaign_yCnTwlCLkqZHwAglrEll: 1.0\n",
      "67: utm_medium_info_text vs utm_adcontent_OJiWyBKOyDITzXCZRSMH: 1.0\n",
      "68: utm_medium_info_text vs utm_keyword_APGNmHDNvDcuqsaRbeNw: 1.0\n",
      "69: utm_medium_qr vs utm_campaign_RkpOyeEPgcMBSDuHLQcj: 1.0\n",
      "70: utm_medium_qrcodevideo vs utm_campaign_dITetAFbdxWiRaArKHRu: 1.0\n",
      "71: utm_medium_qrcodevideo vs utm_adcontent_izFaiVJBdrbEvBjAmFlH: 1.0\n",
      "72: utm_medium_reach vs utm_campaign_CqeIpFwJscTsZoYXdHsP: 1.0\n",
      "73: utm_medium_social vs utm_campaign_CqFuKxSYgtGbcafqJwij: 1.0\n",
      "74: utm_medium_social vs utm_adcontent_MGatbcZxAUUBKBwPWOkg: 1.0\n",
      "75: utm_medium_tablet vs utm_campaign_VbwhIlTuTQfiffXsGgWV: 1.0\n",
      "76: utm_medium_users_msk vs utm_campaign_nrKihqcWGIzDsOqljdAv: 1.0\n",
      "77: utm_medium_nan vs device_category_nan: 1.0\n",
      "78: utm_medium_nan vs geo_country_nan: 1.0\n",
      "79: utm_campaign_Apple vs utm_adcontent_Apple: 1.0\n",
      "80: utm_campaign_Apple vs utm_keyword_Apple: 1.0\n",
      "81: utm_campaign_Apple vs device_category_Apple: 1.0\n",
      "82: utm_campaign_Apple vs device_os_Apple: 1.0\n",
      "83: utm_campaign_Apple vs device_model_Apple: 1.0\n",
      "84: utm_campaign_Apple vs geo_country_Apple: 1.0\n",
      "85: utm_campaign_BtHktUgMgEVIjKWdCrLZ vs utm_adcontent_xZYEHLyYdGXkJENJpTtu: 1.0\n",
      "86: utm_campaign_BuVfXQUpDeZxcCIozRZm vs utm_adcontent_IcLcclbnECGqvCQgOdET: 1.0\n",
      "87: utm_campaign_CqFuKxSYgtGbcafqJwij vs utm_adcontent_MGatbcZxAUUBKBwPWOkg: 1.0\n",
      "88: utm_campaign_DWLxnPuFDXvGQTIRHNMJ vs utm_adcontent_TqknwcPCMDiGGlqUtATP: 1.0\n",
      "89: utm_campaign_HFaOtpcChAlcMuxEAlpu vs utm_adcontent_PRXiQFoujNLNNkgZGmhg: 1.0\n",
      "90: utm_campaign_IRKNegNgOUQLwudzMElF vs utm_adcontent_ghufNFaaSqCETrIZcgal: 1.0\n",
      "91: utm_campaign_NUYvxgBEIYqMlnpeDTIM vs utm_adcontent_FsyvyvqcdOnQCoOklwfT: 1.0\n",
      "92: utm_campaign_Russia vs utm_adcontent_Russia: 1.0\n",
      "93: utm_campaign_Russia vs utm_keyword_Russia: 1.0\n",
      "94: utm_campaign_Russia vs device_category_Russia: 1.0\n",
      "95: utm_campaign_Russia vs device_os_Russia: 1.0\n",
      "96: utm_campaign_Russia vs device_brand_Russia: 1.0\n",
      "97: utm_campaign_Russia vs device_model_Russia: 1.0\n",
      "98: utm_campaign_SbYAsCvXapXBOIxEKBZs vs utm_adcontent_qHPyQVqWZtIwxZvzhkMv: 1.0\n",
      "99: utm_campaign_TOSjvKcurFlcKJijjpYP vs utm_adcontent_ZIMljraejFHmkkHvoNxk: 1.0\n",
      "100: utm_campaign_banner vs utm_adcontent_banner: 1.0\n",
      "101: utm_campaign_banner vs utm_keyword_banner: 1.0\n",
      "102: utm_campaign_banner vs device_category_banner: 1.0\n",
      "103: utm_campaign_banner vs device_os_banner: 1.0\n",
      "104: utm_campaign_banner vs device_brand_banner: 1.0\n",
      "105: utm_campaign_banner vs device_model_banner: 1.0\n",
      "106: utm_campaign_banner vs geo_country_banner: 1.0\n",
      "107: utm_campaign_dITetAFbdxWiRaArKHRu vs utm_adcontent_izFaiVJBdrbEvBjAmFlH: 1.0\n",
      "108: utm_campaign_ehLonfPENrOEoPTIyiOZ vs utm_adcontent_wpmatvDuiMutnvmNVPJo: 1.0\n",
      "109: utm_campaign_jCIRaffxlokbeWIRXHKg vs utm_adcontent_ESMghHbAVcqVsGPVpygd: 1.0\n",
      "110: utm_campaign_vZqcBrFwxYPoYzJyhYGI vs utm_adcontent_NnaLweGiAhdtkuktFipk: 1.0\n",
      "111: utm_campaign_yCnTwlCLkqZHwAglrEll vs utm_adcontent_OJiWyBKOyDITzXCZRSMH: 1.0\n",
      "112: utm_campaign_yCnTwlCLkqZHwAglrEll vs utm_keyword_APGNmHDNvDcuqsaRbeNw: 1.0\n",
      "113: utm_adcontent_Apple vs utm_keyword_Apple: 1.0\n",
      "114: utm_adcontent_Apple vs device_category_Apple: 1.0\n",
      "115: utm_adcontent_Apple vs device_os_Apple: 1.0\n",
      "116: utm_adcontent_Apple vs device_model_Apple: 1.0\n",
      "117: utm_adcontent_Apple vs geo_country_Apple: 1.0\n",
      "118: utm_adcontent_OJiWyBKOyDITzXCZRSMH vs utm_keyword_APGNmHDNvDcuqsaRbeNw: 1.0\n",
      "119: utm_adcontent_Russia vs utm_keyword_Russia: 1.0\n",
      "120: utm_adcontent_Russia vs device_category_Russia: 1.0\n",
      "121: utm_adcontent_Russia vs device_os_Russia: 1.0\n",
      "122: utm_adcontent_Russia vs device_brand_Russia: 1.0\n",
      "123: utm_adcontent_Russia vs device_model_Russia: 1.0\n",
      "124: utm_adcontent_banner vs utm_keyword_banner: 1.0\n",
      "125: utm_adcontent_banner vs device_category_banner: 1.0\n",
      "126: utm_adcontent_banner vs device_os_banner: 1.0\n",
      "127: utm_adcontent_banner vs device_brand_banner: 1.0\n",
      "128: utm_adcontent_banner vs device_model_banner: 1.0\n",
      "129: utm_adcontent_banner vs geo_country_banner: 1.0\n",
      "130: utm_adcontent_uUDFLZnWKzkthhRGUTvb vs utm_keyword_ZggPbXStNGQhzWMEBOLM: 1.0\n",
      "131: utm_keyword_Apple vs device_category_Apple: 1.0\n",
      "132: utm_keyword_Apple vs device_os_Apple: 1.0\n",
      "133: utm_keyword_Apple vs device_model_Apple: 1.0\n",
      "134: utm_keyword_Apple vs geo_country_Apple: 1.0\n",
      "135: utm_keyword_Russia vs device_category_Russia: 1.0\n",
      "136: utm_keyword_Russia vs device_os_Russia: 1.0\n",
      "137: utm_keyword_Russia vs device_brand_Russia: 1.0\n",
      "138: utm_keyword_Russia vs device_model_Russia: 1.0\n",
      "139: utm_keyword_banner vs device_category_banner: 1.0\n",
      "140: utm_keyword_banner vs device_os_banner: 1.0\n",
      "141: utm_keyword_banner vs device_brand_banner: 1.0\n",
      "142: utm_keyword_banner vs device_model_banner: 1.0\n",
      "143: utm_keyword_banner vs geo_country_banner: 1.0\n",
      "144: device_category_Apple vs device_os_Apple: 1.0\n",
      "145: device_category_Apple vs device_model_Apple: 1.0\n",
      "146: device_category_Apple vs geo_country_Apple: 1.0\n",
      "147: device_category_Russia vs device_os_Russia: 1.0\n",
      "148: device_category_Russia vs device_brand_Russia: 1.0\n",
      "149: device_category_Russia vs device_model_Russia: 1.0\n",
      "150: device_category_banner vs device_os_banner: 1.0\n",
      "151: device_category_banner vs device_brand_banner: 1.0\n",
      "152: device_category_banner vs device_model_banner: 1.0\n",
      "153: device_category_banner vs geo_country_banner: 1.0\n",
      "154: device_category_nan vs geo_country_nan: 1.0\n",
      "155: device_os_Apple vs device_model_Apple: 1.0\n",
      "156: device_os_Apple vs geo_country_Apple: 1.0\n",
      "157: device_os_Russia vs device_brand_Russia: 1.0\n",
      "158: device_os_Russia vs device_model_Russia: 1.0\n",
      "159: device_os_banner vs device_brand_banner: 1.0\n",
      "160: device_os_banner vs device_model_banner: 1.0\n",
      "161: device_os_banner vs geo_country_banner: 1.0\n",
      "162: device_brand_Dynamic vs device_model_PGJlcQwncXKgOzNKZdeF: 1.0\n",
      "163: device_brand_Russia vs device_model_Russia: 1.0\n",
      "164: device_brand_TurboPad vs device_model_lhoYkemXATyKyUwRAztp: 1.0\n",
      "165: device_brand_banner vs device_model_banner: 1.0\n",
      "166: device_brand_banner vs geo_country_banner: 1.0\n",
      "167: device_model_Apple vs geo_country_Apple: 1.0\n",
      "168: device_model_banner vs geo_country_banner: 1.0\n",
      "169: utm_source_jaSOmLICuBzCFqHfBdRg vs utm_medium_email: 0.999\n",
      "170: utm_source_TxKUcPpthBDPieTGmVhx vs utm_adcontent_LcGIUNPUAmXtQJaDfFBR: 0.997\n",
      "171: device_category_desktop vs device_brand_nan: 0.994\n",
      "172: utm_adcontent_LLfCasrxQzJIyuldcuWy vs utm_keyword_aXQzDWsJuGXeBXexNHjc: 0.992\n",
      "173: utm_medium_app vs utm_adcontent_FkiRXDLOWtzVfvhEkhNo: 0.984\n",
      "174: utm_keyword_nan vs device_os_nan: 0.983\n",
      "175: utm_source_eLzNJHzPelJpEyBwMrKo vs utm_keyword_pucKZkLDtpMDBTobJAJG: 0.98\n",
      "176: utm_source_vFcAhRxLfOWKhvxjELkx vs utm_campaign_okTXSMadDkjvntEHzIjp: 0.978\n",
      "177: utm_campaign_foFTSdUvNqqkPzZvgiqt vs utm_adcontent_DZYjhfIUfdqhfuTNUmjn: 0.974\n",
      "178: utm_source_YlsczTIyBSwTLNtuDkCd vs utm_campaign_PTQlxxEuqjyfVHcNKQQW: 0.969\n",
      "179: utm_medium_outlook vs utm_campaign_PTQlxxEuqjyfVHcNKQQW: 0.969\n",
      "180: utm_source_FArFiZMprRBKpQtJYEPL vs utm_campaign_XGOsamgBesNClOIokPJY: 0.964\n",
      "181: utm_campaign_XGOsamgBesNClOIokPJY vs utm_adcontent_iFkBdFFnWCaZkKWtuXJi: 0.964\n",
      "182: utm_source_fgymSoTvjKPEgaIJqsiH vs utm_adcontent_yYdBRbPmBMUZHXwqGxNx: 0.959\n",
      "183: utm_medium_clicks vs utm_campaign_TIRYvHSoLonAvRZefPmz: 0.956\n",
      "184: utm_medium_smartbanner vs utm_campaign_jqlUOdZBNZYfInQVcZlS: 0.941\n",
      "185: utm_adcontent_AdeErYgVTbRcAWtHrMHq vs utm_keyword_pucKZkLDtpMDBTobJAJG: 0.94\n",
      "186: utm_campaign_QdLfySaGXolfTBSNVfHn vs utm_adcontent_SOkCdPxfUcZUzzOdgGES: 0.935\n",
      "187: utm_campaign_pZusNNTculJrJpXVbetv vs utm_adcontent_EsbpyHMkFkavykEeYhch: 0.935\n",
      "188: utm_medium_landing vs utm_campaign_KCcrgoFqYxCpSjdRyJjZ: 0.934\n",
      "189: utm_source_gDBGzjFKYabGgSPZvrDH vs utm_adcontent_UxrnyMlRBSOhOjytXnMG: 0.926\n",
      "190: utm_source_eLzNJHzPelJpEyBwMrKo vs utm_adcontent_AdeErYgVTbRcAWtHrMHq: 0.921\n",
      "191: utm_source_qVXuCoVQtPxcUkAXiXBa vs utm_campaign_jfLxUKobDdJlutbwyjaU: 0.915\n",
      "192: utm_medium_tg vs utm_campaign_wpmatvDuiMutnvmNVPJo: 0.912\n",
      "193: utm_source_gPinzYOcsxiWLoYRKIhm vs utm_medium_nkp: 0.907\n",
      "194: utm_source_gLXXuZYbFVYlDWhMmZiU vs utm_campaign_vZqcBrFwxYPoYzJyhYGI: 0.903\n",
      "195: utm_source_gLXXuZYbFVYlDWhMmZiU vs utm_adcontent_NnaLweGiAhdtkuktFipk: 0.903\n",
      "196: utm_medium_medium vs utm_campaign_vZqcBrFwxYPoYzJyhYGI: 0.903\n",
      "197: utm_medium_medium vs utm_adcontent_NnaLweGiAhdtkuktFipk: 0.903\n",
      "198: utm_medium_cpa vs utm_campaign_mSVMBvlHFgftJaQAZEdp: 0.902\n",
      "199: device_category_desktop vs device_category_mobile: -0.891\n",
      "200: device_category_mobile vs device_brand_nan: -0.888\n",
      "201: utm_medium_post vs utm_campaign_ESphyUeLTPINiYALHWrO: 0.88\n",
      "202: utm_campaign_LPiQJDVEpMDecOsQvTTl vs utm_adcontent_tNrhJmDqMWHJJeiSINtD: 0.879\n",
      "203: utm_source_tzIeQUUHahhBuEkJqDVp vs utm_campaign_TOtlRhDcJiAMnHYarArU: 0.866\n",
      "204: utm_campaign_okTXSMadDkjvntEHzIjp vs utm_keyword_aXQzDWsJuGXeBXexNHjc: 0.865\n",
      "205: utm_adcontent_WbmadpYgwtVCcAwGJoXb vs utm_keyword_gEydMgyogRBSsihrQQwd: 0.861\n",
      "206: utm_campaign_okTXSMadDkjvntEHzIjp vs utm_adcontent_LLfCasrxQzJIyuldcuWy: 0.858\n",
      "207: utm_source_ZpYIoDJMcFzVoPFsHGJL vs utm_medium_banner: 0.857\n",
      "208: utm_source_faqsogjxCvbseFqupueU vs utm_campaign_dZqEgyoxhtbeLFMtnnVR: 0.85\n",
      "209: utm_medium_stories vs utm_campaign_QEejXfOCtOMFLZqIPApp: 0.844\n",
      "210: utm_source_gaFBXpMUrvHAilRkjPSS vs utm_medium_article: 0.837\n",
      "211: utm_source_vFcAhRxLfOWKhvxjELkx vs utm_keyword_aXQzDWsJuGXeBXexNHjc: 0.837\n",
      "212: utm_medium_landing_interests vs utm_campaign_gEydMgyogRBSsihrQQwd: 0.837\n",
      "213: utm_source_vFcAhRxLfOWKhvxjELkx vs utm_adcontent_LLfCasrxQzJIyuldcuWy: 0.835\n",
      "214: utm_source_mNTexKeDdCADhrBgkEeA vs utm_medium_static: 0.829\n",
      "215: utm_source_nmfptFmSirEqNzAzqbXA vs utm_adcontent_xnyHaukLtAvgViiZSyBC: 0.82\n",
      "216: utm_source_nan vs utm_medium_nan: 0.82\n",
      "217: utm_source_nan vs device_category_nan: 0.82\n",
      "218: utm_source_nan vs geo_country_nan: 0.82\n",
      "219: utm_source_MvfHsxITijuriZxsqZqt vs utm_adcontent_xhoenQgDQsgfEPYNPwKO: 0.818\n",
      "220: utm_campaign_fBaFZNWyrwtUZQWItcsr vs utm_adcontent_FTbuAcijicBuwxycfGPB: 0.816\n",
      "221: utm_campaign_kGgpyeEtacYWhzbuuWMR vs utm_keyword_thYHTtYeWMvbXnHTRwgj: 0.816\n",
      "222: device_os_Windows Phone vs device_model_JNHcPlZPxEMWDnRiyoBf: 0.816\n",
      "223: utm_campaign_deUhHtuyPVpBrqXAuTJK vs utm_adcontent_TbRYODQKoEeDtSgVDXSU: 0.814\n",
      "224: utm_medium_cpm vs utm_campaign_FTjNLDyTrXaWYgZymFkV: 0.809\n",
      "225: utm_campaign_yfjcpPqMeNcSIiswGTeQ vs utm_adcontent_vhVTQFAHzzstHBwdbSyd: 0.805\n",
      "226: utm_source_hTjLvqNxGggkGnxSCaTm vs utm_medium_stories: 0.802\n",
      "227: utm_campaign_KyobiyHqbFtWswycTXJo vs utm_adcontent_fDLlAcSmythWSCVMvqvL: 0.799\n",
      "228: utm_source_bgTYkDHjOsJzMUtoGhiQ vs utm_medium_yandex_cpc: 0.796\n",
      "229: utm_campaign_FTjNLDyTrXaWYgZymFkV vs utm_adcontent_xhoenQgDQsgfEPYNPwKO: 0.796\n",
      "230: utm_source_bByPQxmDaMXgpHeypKSM vs utm_medium_referral: 0.794\n",
      "231: utm_source_MvfHsxITijuriZxsqZqt vs utm_campaign_FTjNLDyTrXaWYgZymFkV: 0.793\n",
      "232: utm_source_LIWKeifdTCbuNeniIUqm vs utm_campaign_lndNIerCYECRQvBTyTye: 0.792\n",
      "233: utm_medium_link vs utm_campaign_lndNIerCYECRQvBTyTye: 0.792\n",
      "234: utm_campaign_BHcvLfOaCWvWTykYqHVe vs utm_adcontent_eCPVFTOzrcBYtbtWCUpF: 0.79\n",
      "235: utm_source_juYouSPHPfKdXivEPJjt vs utm_keyword_HhhFrJNxtyFmfHjucLwg: 0.786\n",
      "236: utm_source_juYouSPHPfKdXivEPJjt vs utm_adcontent_xkJsGXLqyYzSpiVklGLY: 0.783\n",
      "237: device_brand_Kata vs device_model_CHEgAchdlTbIOcHAYzGk: 0.779\n",
      "238: utm_adcontent_oAsSPBTisuaTtTIyrxtp vs utm_keyword_TmLcOgercnkJQrPmRxsU: 0.777\n",
      "239: utm_source_RzLAoRYmCtVATSoPvWAQ vs utm_adcontent_FOpwpdsyixiqHvfVmkRD: 0.775\n",
      "240: utm_source_ghoaGAksqhKomdFrxgyJ vs utm_adcontent_NhvfEqcSTGEZKxxvUZlj: 0.769\n",
      "241: utm_campaign_LbYgXRsCfbfDfXBVePCv vs utm_adcontent_kaaekPgmOvwMQoAiAzaV: 0.764\n",
      "242: device_os_iOS vs device_brand_Apple: 0.759\n",
      "243: utm_source_IZEXUFLARCUMynmHNBGo vs utm_medium_blogger_channel: 0.753\n",
      "244: utm_campaign_yxtFdhyijaALzWWYtzHE vs utm_keyword_vOXubAVUYXkYNgrXYqNP: 0.75\n",
      "245: utm_source_NGNkCWwKgYFmiCCeZVxg vs utm_keyword_xMYlmvNxReLFGfXkQTYj: 0.747\n",
      "246: utm_source_GmILPdZyuAVJCPsUBHeN vs utm_medium_clicks: 0.736\n",
      "247: utm_source_ISrKoXQCxqqYvAZICvjs vs utm_medium_blogger_stories: 0.736\n",
      "248: utm_medium_push vs utm_campaign_sbJRYgVfvcnqKJNDDYIr: 0.736\n",
      "249: utm_campaign_TPmcSCdCeBenCRczRhPK vs utm_adcontent_isYoUwVPnRHJczHiHQbB: 0.732\n",
      "250: utm_adcontent_xkJsGXLqyYzSpiVklGLY vs utm_keyword_HhhFrJNxtyFmfHjucLwg: 0.728\n",
      "251: utm_source_MvfHsxITijuriZxsqZqt vs utm_medium_cpm: 0.727\n",
      "252: utm_source_geDcueAOghDzHkGMmdOq vs utm_adcontent_WYLajZgbUhGimwBKDZUH: 0.725\n",
      "253: utm_medium_cpm vs utm_adcontent_xhoenQgDQsgfEPYNPwKO: 0.724\n",
      "254: utm_medium_cpc vs utm_adcontent_nan: 0.714\n",
      "255: utm_source_eBckTUycdWUDbWqXENLu vs utm_medium_tablet: 0.707\n",
      "256: utm_source_eBckTUycdWUDbWqXENLu vs utm_campaign_UgWjaOmKUxPFucSbwvSq: 0.707\n",
      "257: utm_source_eBckTUycdWUDbWqXENLu vs utm_campaign_VbwhIlTuTQfiffXsGgWV: 0.707\n",
      "258: utm_source_qkJqOqfMTtlyzUhWxuhL vs utm_campaign_NAGIDBigiKYOOmeMVBQq: 0.707\n",
      "259: utm_medium_linktest vs utm_campaign_NAGIDBigiKYOOmeMVBQq: 0.707\n",
      "260: device_os_Nokia vs device_model_MBGYWAQSYWUphNxTsAWD: 0.707\n",
      "261: utm_source_nnaPUJiwrEHwnRkuzmDD vs utm_keyword_slkLspXnNYPQGEqeIWrs: 0.706\n",
      "262: utm_source_GmILPdZyuAVJCPsUBHeN vs utm_campaign_TIRYvHSoLonAvRZefPmz: 0.704\n",
      "263: utm_campaign_ZggPbXStNGQhzWMEBOLM vs utm_keyword_VQdCLycKmynJLXIDpEYt: 0.697\n",
      "264: utm_medium_sms vs utm_campaign_qTERPbkOaRvjtQXXEwdb: 0.682\n",
      "265: utm_source_hTjLvqNxGggkGnxSCaTm vs utm_campaign_QEejXfOCtOMFLZqIPApp: 0.676\n",
      "266: utm_source_gaFBXpMUrvHAilRkjPSS vs utm_keyword_ZEKdPvqkBZTCGcxkAsdz: 0.672\n",
      "267: utm_source_EyveFmCGCQchHbSIRpVc vs utm_adcontent_MAmrReLMhdunblCfxPot: 0.671\n",
      "268: utm_campaign_LEoPHuyFvzoNfnzGgfcd vs utm_adcontent_vCIpmpaGBnIQhyYNkXqp: 0.671\n",
      "269: utm_campaign_GbuDbHhyctlqNtNRnebC vs utm_keyword_JdLDXLLzKXZlxBJrDTXh: 0.667\n",
      "270: utm_adcontent_JNHcPlZPxEMWDnRiyoBf vs utm_adcontent_nan: -0.664\n",
      "271: utm_adcontent_kZBJHrVaekBwnsMoBrtF vs utm_keyword_iChICoBNhQpGctcwbFan: 0.659\n",
      "272: utm_source_BHcvLfOaCWvWTykYqHVe vs utm_campaign_nan: 0.651\n",
      "273: utm_adcontent_qVMaPuMKrfaOOChIhIJl vs utm_keyword_slkLspXnNYPQGEqeIWrs: 0.648\n",
      "274: utm_source_NGNkCWwKgYFmiCCeZVxg vs utm_keyword_aVpHHMXeGTRlQvVjmqUe: 0.645\n",
      "275: utm_campaign_jpjTolpOezlrOPAunDZi vs utm_adcontent_FXpnPQVvfePoCAKRMpRV: 0.643\n",
      "276: utm_source_nnaPUJiwrEHwnRkuzmDD vs utm_adcontent_qVMaPuMKrfaOOChIhIJl: 0.635\n",
      "277: utm_adcontent_FOpwpdsyixiqHvfVmkRD vs utm_keyword_EqdTaaqmzwekKPAdLBYe: 0.632\n",
      "278: utm_adcontent_NUkWLMZGFsiVUNEECwyd vs utm_keyword_HwAaYWqVHOvKPlrcQMnj: 0.629\n",
      "279: utm_campaign_LbYgXRsCfbfDfXBVePCv vs utm_adcontent_LrfKeexYNjGjsqQVSCdi: 0.624\n",
      "280: utm_adcontent_sMBIidTLSrYkjsCEvwht vs utm_keyword_ANoZJgYuPrWNkAAchryx: 0.62\n",
      "281: utm_campaign_BKeImrJuRDZcHiSSTdzm vs utm_adcontent_ODLcVlzKCdodjHQNkIoL: 0.618\n",
      "282: utm_campaign_vbDXvNFpmAgCDpNuuaPT vs utm_keyword_zPBqzGRFtKFKtOkqvmpm: 0.615\n",
      "283: utm_campaign_BHcvLfOaCWvWTykYqHVe vs utm_adcontent_jMNfDMEvJFVnXWOpECtJ: 0.613\n",
      "284: utm_source_PlbkrSYoHuZBWfYjYnfw vs utm_campaign_izpGVnqOrUbTVctFBiaU: 0.609\n",
      "285: utm_adcontent_lBvcHmZkKpwCXdgWSQYO vs utm_keyword_CqeIpFwJscTsZoYXdHsP: 0.608\n",
      "286: utm_campaign_nan vs utm_adcontent_nan: 0.606\n",
      "287: utm_source_GpAkIXsclxDGyILfNlrR vs utm_campaign_XGYOaJEasWTwAKNdCGVX: 0.605\n",
      "288: utm_source_bgTYkDHjOsJzMUtoGhiQ vs utm_medium_google_cpc: 0.605\n",
      "289: utm_medium_banner vs utm_campaign_LEoPHuyFvzoNfnzGgfcd: 0.605\n",
      "290: utm_source_PlbkrSYoHuZBWfYjYnfw vs utm_campaign_wWtqUernqIfFLJdJysKt: 0.602\n",
      "291: utm_campaign_KyobiyHqbFtWswycTXJo vs utm_adcontent_ywScCjfXuJyLkJMzfjEB: 0.601\n"
     ]
    }
   ],
   "execution_count": 23
  },
  {
   "metadata": {},
   "cell_type": "markdown",
   "source": "Также выведем corr_pairs_sorted для того, чтобы позже в сервисе использовать эту информацию для фильтрации входных данных сервиса",
   "id": "5bb8dda7f96cdfe7"
  },
  {
   "metadata": {
    "ExecuteTime": {
     "end_time": "2025-06-14T21:17:49.443974Z",
     "start_time": "2025-06-14T21:17:49.441779Z"
    }
   },
   "cell_type": "code",
   "source": "print(corr_pairs_sorted)",
   "id": "af0353014824d16a",
   "outputs": [
    {
     "name": "stdout",
     "output_type": "stream",
     "text": [
      "[('utm_source_Apple', 'utm_medium_Apple', np.float64(1.0)), ('utm_source_Apple', 'utm_campaign_Apple', np.float64(1.0)), ('utm_source_Apple', 'utm_adcontent_Apple', np.float64(1.0)), ('utm_source_Apple', 'utm_keyword_Apple', np.float64(1.0)), ('utm_source_Apple', 'device_category_Apple', np.float64(1.0)), ('utm_source_Apple', 'device_os_Apple', np.float64(1.0)), ('utm_source_Apple', 'device_model_Apple', np.float64(1.0)), ('utm_source_Apple', 'geo_country_Apple', np.float64(1.0)), ('utm_source_AuJjYKxJakEqFnCmyFtz', 'utm_medium_main_polka', np.float64(1.0)), ('utm_source_DnxUhHWInKVDAWzwROOC', 'utm_campaign_niQdLVcBlNylrEuNcCYH', np.float64(1.0)), ('utm_source_FArFiZMprRBKpQtJYEPL', 'utm_adcontent_iFkBdFFnWCaZkKWtuXJi', np.float64(1.0)), ('utm_source_LIWKeifdTCbuNeniIUqm', 'utm_medium_link', np.float64(1.0)), ('utm_source_LigOnUObPodLDexszDtn', 'utm_medium_qr', np.float64(1.0)), ('utm_source_LigOnUObPodLDexszDtn', 'utm_campaign_RkpOyeEPgcMBSDuHLQcj', np.float64(1.0)), ('utm_source_Russia', 'utm_medium_Russia', np.float64(1.0)), ('utm_source_Russia', 'utm_campaign_Russia', np.float64(1.0)), ('utm_source_Russia', 'utm_adcontent_Russia', np.float64(1.0)), ('utm_source_Russia', 'utm_keyword_Russia', np.float64(1.0)), ('utm_source_Russia', 'device_category_Russia', np.float64(1.0)), ('utm_source_Russia', 'device_os_Russia', np.float64(1.0)), ('utm_source_Russia', 'device_brand_Russia', np.float64(1.0)), ('utm_source_Russia', 'device_model_Russia', np.float64(1.0)), ('utm_source_YlsczTIyBSwTLNtuDkCd', 'utm_medium_outlook', np.float64(1.0)), ('utm_source_ZsHOHNXkbhgIDlKNiFMf', 'utm_campaign_zFCiMWkbbAhTflrlLWnz', np.float64(1.0)), ('utm_source_banner', 'utm_campaign_banner', np.float64(1.0)), ('utm_source_banner', 'utm_adcontent_banner', np.float64(1.0)), ('utm_source_banner', 'utm_keyword_banner', np.float64(1.0)), ('utm_source_banner', 'device_category_banner', np.float64(1.0)), ('utm_source_banner', 'device_os_banner', np.float64(1.0)), ('utm_source_banner', 'device_brand_banner', np.float64(1.0)), ('utm_source_banner', 'device_model_banner', np.float64(1.0)), ('utm_source_banner', 'geo_country_banner', np.float64(1.0)), ('utm_source_cAqxcRdSSFAyCPUxQHqy', 'utm_medium_info_text', np.float64(1.0)), ('utm_source_cAqxcRdSSFAyCPUxQHqy', 'utm_campaign_yCnTwlCLkqZHwAglrEll', np.float64(1.0)), ('utm_source_cAqxcRdSSFAyCPUxQHqy', 'utm_adcontent_OJiWyBKOyDITzXCZRSMH', np.float64(1.0)), ('utm_source_cAqxcRdSSFAyCPUxQHqy', 'utm_keyword_APGNmHDNvDcuqsaRbeNw', np.float64(1.0)), ('utm_source_dGlVSdmIlgWDyOPjfwwy', 'utm_medium_partner', np.float64(1.0)), ('utm_source_eFGuYtbktaqRjJGmKrgt', 'utm_campaign_BuVfXQUpDeZxcCIozRZm', np.float64(1.0)), ('utm_source_eFGuYtbktaqRjJGmKrgt', 'utm_adcontent_IcLcclbnECGqvCQgOdET', np.float64(1.0)), ('utm_source_fJCYsujgSxIHFbOmgDdN', 'utm_campaign_IRKNegNgOUQLwudzMElF', np.float64(1.0)), ('utm_source_fJCYsujgSxIHFbOmgDdN', 'utm_adcontent_ghufNFaaSqCETrIZcgal', np.float64(1.0)), ('utm_source_gLXXuZYbFVYlDWhMmZiU', 'utm_medium_medium', np.float64(1.0)), ('utm_source_kKtSojgDlfomwthXhPjz', 'utm_medium_last', np.float64(1.0)), ('utm_source_nDmmJsJyAFLtSzhkbNao', 'utm_medium_promo_sber', np.float64(1.0)), ('utm_source_qkJqOqfMTtlyzUhWxuhL', 'utm_medium_linktest', np.float64(1.0)), ('utm_source_sOTrgtUMUuYzzWBPLeFQ', 'utm_campaign_FrZxVhBshHjYZTtbPhxK', np.float64(1.0)), ('utm_source_tasNSXvMCFllwbrJviyg', 'utm_medium_qrcodevideo', np.float64(1.0)), ('utm_source_tasNSXvMCFllwbrJviyg', 'utm_campaign_dITetAFbdxWiRaArKHRu', np.float64(1.0)), ('utm_source_tasNSXvMCFllwbrJviyg', 'utm_adcontent_izFaiVJBdrbEvBjAmFlH', np.float64(1.0)), ('utm_source_vGkKzmIaNOfwjXAcmSxP', 'utm_campaign_xKilurCKKiYaehWwdleb', np.float64(1.0)), ('utm_medium_Apple', 'utm_campaign_Apple', np.float64(1.0)), ('utm_medium_Apple', 'utm_adcontent_Apple', np.float64(1.0)), ('utm_medium_Apple', 'utm_keyword_Apple', np.float64(1.0)), ('utm_medium_Apple', 'device_category_Apple', np.float64(1.0)), ('utm_medium_Apple', 'device_os_Apple', np.float64(1.0)), ('utm_medium_Apple', 'device_model_Apple', np.float64(1.0)), ('utm_medium_Apple', 'geo_country_Apple', np.float64(1.0)), ('utm_medium_Russia', 'utm_campaign_Russia', np.float64(1.0)), ('utm_medium_Russia', 'utm_adcontent_Russia', np.float64(1.0)), ('utm_medium_Russia', 'utm_keyword_Russia', np.float64(1.0)), ('utm_medium_Russia', 'device_category_Russia', np.float64(1.0)), ('utm_medium_Russia', 'device_os_Russia', np.float64(1.0)), ('utm_medium_Russia', 'device_brand_Russia', np.float64(1.0)), ('utm_medium_Russia', 'device_model_Russia', np.float64(1.0)), ('utm_medium_catalogue', 'utm_campaign_opDQAVOMtCAjZrYyRdJb', np.float64(1.0)), ('utm_medium_dom_click', 'utm_campaign_MHdHrBKQwbDaRalwnlJq', np.float64(1.0)), ('utm_medium_info_text', 'utm_campaign_yCnTwlCLkqZHwAglrEll', np.float64(1.0)), ('utm_medium_info_text', 'utm_adcontent_OJiWyBKOyDITzXCZRSMH', np.float64(1.0)), ('utm_medium_info_text', 'utm_keyword_APGNmHDNvDcuqsaRbeNw', np.float64(1.0)), ('utm_medium_qr', 'utm_campaign_RkpOyeEPgcMBSDuHLQcj', np.float64(1.0)), ('utm_medium_qrcodevideo', 'utm_campaign_dITetAFbdxWiRaArKHRu', np.float64(1.0)), ('utm_medium_qrcodevideo', 'utm_adcontent_izFaiVJBdrbEvBjAmFlH', np.float64(1.0)), ('utm_medium_reach', 'utm_campaign_CqeIpFwJscTsZoYXdHsP', np.float64(1.0)), ('utm_medium_social', 'utm_campaign_CqFuKxSYgtGbcafqJwij', np.float64(1.0)), ('utm_medium_social', 'utm_adcontent_MGatbcZxAUUBKBwPWOkg', np.float64(1.0)), ('utm_medium_tablet', 'utm_campaign_VbwhIlTuTQfiffXsGgWV', np.float64(1.0)), ('utm_medium_users_msk', 'utm_campaign_nrKihqcWGIzDsOqljdAv', np.float64(1.0)), ('utm_medium_nan', 'device_category_nan', np.float64(1.0)), ('utm_medium_nan', 'geo_country_nan', np.float64(1.0)), ('utm_campaign_Apple', 'utm_adcontent_Apple', np.float64(1.0)), ('utm_campaign_Apple', 'utm_keyword_Apple', np.float64(1.0)), ('utm_campaign_Apple', 'device_category_Apple', np.float64(1.0)), ('utm_campaign_Apple', 'device_os_Apple', np.float64(1.0)), ('utm_campaign_Apple', 'device_model_Apple', np.float64(1.0)), ('utm_campaign_Apple', 'geo_country_Apple', np.float64(1.0)), ('utm_campaign_BtHktUgMgEVIjKWdCrLZ', 'utm_adcontent_xZYEHLyYdGXkJENJpTtu', np.float64(1.0)), ('utm_campaign_BuVfXQUpDeZxcCIozRZm', 'utm_adcontent_IcLcclbnECGqvCQgOdET', np.float64(1.0)), ('utm_campaign_CqFuKxSYgtGbcafqJwij', 'utm_adcontent_MGatbcZxAUUBKBwPWOkg', np.float64(1.0)), ('utm_campaign_DWLxnPuFDXvGQTIRHNMJ', 'utm_adcontent_TqknwcPCMDiGGlqUtATP', np.float64(1.0)), ('utm_campaign_HFaOtpcChAlcMuxEAlpu', 'utm_adcontent_PRXiQFoujNLNNkgZGmhg', np.float64(1.0)), ('utm_campaign_IRKNegNgOUQLwudzMElF', 'utm_adcontent_ghufNFaaSqCETrIZcgal', np.float64(1.0)), ('utm_campaign_NUYvxgBEIYqMlnpeDTIM', 'utm_adcontent_FsyvyvqcdOnQCoOklwfT', np.float64(1.0)), ('utm_campaign_Russia', 'utm_adcontent_Russia', np.float64(1.0)), ('utm_campaign_Russia', 'utm_keyword_Russia', np.float64(1.0)), ('utm_campaign_Russia', 'device_category_Russia', np.float64(1.0)), ('utm_campaign_Russia', 'device_os_Russia', np.float64(1.0)), ('utm_campaign_Russia', 'device_brand_Russia', np.float64(1.0)), ('utm_campaign_Russia', 'device_model_Russia', np.float64(1.0)), ('utm_campaign_SbYAsCvXapXBOIxEKBZs', 'utm_adcontent_qHPyQVqWZtIwxZvzhkMv', np.float64(1.0)), ('utm_campaign_TOSjvKcurFlcKJijjpYP', 'utm_adcontent_ZIMljraejFHmkkHvoNxk', np.float64(1.0)), ('utm_campaign_banner', 'utm_adcontent_banner', np.float64(1.0)), ('utm_campaign_banner', 'utm_keyword_banner', np.float64(1.0)), ('utm_campaign_banner', 'device_category_banner', np.float64(1.0)), ('utm_campaign_banner', 'device_os_banner', np.float64(1.0)), ('utm_campaign_banner', 'device_brand_banner', np.float64(1.0)), ('utm_campaign_banner', 'device_model_banner', np.float64(1.0)), ('utm_campaign_banner', 'geo_country_banner', np.float64(1.0)), ('utm_campaign_dITetAFbdxWiRaArKHRu', 'utm_adcontent_izFaiVJBdrbEvBjAmFlH', np.float64(1.0)), ('utm_campaign_ehLonfPENrOEoPTIyiOZ', 'utm_adcontent_wpmatvDuiMutnvmNVPJo', np.float64(1.0)), ('utm_campaign_jCIRaffxlokbeWIRXHKg', 'utm_adcontent_ESMghHbAVcqVsGPVpygd', np.float64(1.0)), ('utm_campaign_vZqcBrFwxYPoYzJyhYGI', 'utm_adcontent_NnaLweGiAhdtkuktFipk', np.float64(1.0)), ('utm_campaign_yCnTwlCLkqZHwAglrEll', 'utm_adcontent_OJiWyBKOyDITzXCZRSMH', np.float64(1.0)), ('utm_campaign_yCnTwlCLkqZHwAglrEll', 'utm_keyword_APGNmHDNvDcuqsaRbeNw', np.float64(1.0)), ('utm_adcontent_Apple', 'utm_keyword_Apple', np.float64(1.0)), ('utm_adcontent_Apple', 'device_category_Apple', np.float64(1.0)), ('utm_adcontent_Apple', 'device_os_Apple', np.float64(1.0)), ('utm_adcontent_Apple', 'device_model_Apple', np.float64(1.0)), ('utm_adcontent_Apple', 'geo_country_Apple', np.float64(1.0)), ('utm_adcontent_OJiWyBKOyDITzXCZRSMH', 'utm_keyword_APGNmHDNvDcuqsaRbeNw', np.float64(1.0)), ('utm_adcontent_Russia', 'utm_keyword_Russia', np.float64(1.0)), ('utm_adcontent_Russia', 'device_category_Russia', np.float64(1.0)), ('utm_adcontent_Russia', 'device_os_Russia', np.float64(1.0)), ('utm_adcontent_Russia', 'device_brand_Russia', np.float64(1.0)), ('utm_adcontent_Russia', 'device_model_Russia', np.float64(1.0)), ('utm_adcontent_banner', 'utm_keyword_banner', np.float64(1.0)), ('utm_adcontent_banner', 'device_category_banner', np.float64(1.0)), ('utm_adcontent_banner', 'device_os_banner', np.float64(1.0)), ('utm_adcontent_banner', 'device_brand_banner', np.float64(1.0)), ('utm_adcontent_banner', 'device_model_banner', np.float64(1.0)), ('utm_adcontent_banner', 'geo_country_banner', np.float64(1.0)), ('utm_adcontent_uUDFLZnWKzkthhRGUTvb', 'utm_keyword_ZggPbXStNGQhzWMEBOLM', np.float64(1.0)), ('utm_keyword_Apple', 'device_category_Apple', np.float64(1.0)), ('utm_keyword_Apple', 'device_os_Apple', np.float64(1.0)), ('utm_keyword_Apple', 'device_model_Apple', np.float64(1.0)), ('utm_keyword_Apple', 'geo_country_Apple', np.float64(1.0)), ('utm_keyword_Russia', 'device_category_Russia', np.float64(1.0)), ('utm_keyword_Russia', 'device_os_Russia', np.float64(1.0)), ('utm_keyword_Russia', 'device_brand_Russia', np.float64(1.0)), ('utm_keyword_Russia', 'device_model_Russia', np.float64(1.0)), ('utm_keyword_banner', 'device_category_banner', np.float64(1.0)), ('utm_keyword_banner', 'device_os_banner', np.float64(1.0)), ('utm_keyword_banner', 'device_brand_banner', np.float64(1.0)), ('utm_keyword_banner', 'device_model_banner', np.float64(1.0)), ('utm_keyword_banner', 'geo_country_banner', np.float64(1.0)), ('device_category_Apple', 'device_os_Apple', np.float64(1.0)), ('device_category_Apple', 'device_model_Apple', np.float64(1.0)), ('device_category_Apple', 'geo_country_Apple', np.float64(1.0)), ('device_category_Russia', 'device_os_Russia', np.float64(1.0)), ('device_category_Russia', 'device_brand_Russia', np.float64(1.0)), ('device_category_Russia', 'device_model_Russia', np.float64(1.0)), ('device_category_banner', 'device_os_banner', np.float64(1.0)), ('device_category_banner', 'device_brand_banner', np.float64(1.0)), ('device_category_banner', 'device_model_banner', np.float64(1.0)), ('device_category_banner', 'geo_country_banner', np.float64(1.0)), ('device_category_nan', 'geo_country_nan', np.float64(1.0)), ('device_os_Apple', 'device_model_Apple', np.float64(1.0)), ('device_os_Apple', 'geo_country_Apple', np.float64(1.0)), ('device_os_Russia', 'device_brand_Russia', np.float64(1.0)), ('device_os_Russia', 'device_model_Russia', np.float64(1.0)), ('device_os_banner', 'device_brand_banner', np.float64(1.0)), ('device_os_banner', 'device_model_banner', np.float64(1.0)), ('device_os_banner', 'geo_country_banner', np.float64(1.0)), ('device_brand_Dynamic', 'device_model_PGJlcQwncXKgOzNKZdeF', np.float64(1.0)), ('device_brand_Russia', 'device_model_Russia', np.float64(1.0)), ('device_brand_TurboPad', 'device_model_lhoYkemXATyKyUwRAztp', np.float64(1.0)), ('device_brand_banner', 'device_model_banner', np.float64(1.0)), ('device_brand_banner', 'geo_country_banner', np.float64(1.0)), ('device_model_Apple', 'geo_country_Apple', np.float64(1.0)), ('device_model_banner', 'geo_country_banner', np.float64(1.0)), ('utm_source_jaSOmLICuBzCFqHfBdRg', 'utm_medium_email', np.float64(0.999)), ('utm_source_TxKUcPpthBDPieTGmVhx', 'utm_adcontent_LcGIUNPUAmXtQJaDfFBR', np.float64(0.997)), ('device_category_desktop', 'device_brand_nan', np.float64(0.994)), ('utm_adcontent_LLfCasrxQzJIyuldcuWy', 'utm_keyword_aXQzDWsJuGXeBXexNHjc', np.float64(0.992)), ('utm_medium_app', 'utm_adcontent_FkiRXDLOWtzVfvhEkhNo', np.float64(0.984)), ('utm_keyword_nan', 'device_os_nan', np.float64(0.983)), ('utm_source_eLzNJHzPelJpEyBwMrKo', 'utm_keyword_pucKZkLDtpMDBTobJAJG', np.float64(0.98)), ('utm_source_vFcAhRxLfOWKhvxjELkx', 'utm_campaign_okTXSMadDkjvntEHzIjp', np.float64(0.978)), ('utm_campaign_foFTSdUvNqqkPzZvgiqt', 'utm_adcontent_DZYjhfIUfdqhfuTNUmjn', np.float64(0.974)), ('utm_source_YlsczTIyBSwTLNtuDkCd', 'utm_campaign_PTQlxxEuqjyfVHcNKQQW', np.float64(0.969)), ('utm_medium_outlook', 'utm_campaign_PTQlxxEuqjyfVHcNKQQW', np.float64(0.969)), ('utm_source_FArFiZMprRBKpQtJYEPL', 'utm_campaign_XGOsamgBesNClOIokPJY', np.float64(0.964)), ('utm_campaign_XGOsamgBesNClOIokPJY', 'utm_adcontent_iFkBdFFnWCaZkKWtuXJi', np.float64(0.964)), ('utm_source_fgymSoTvjKPEgaIJqsiH', 'utm_adcontent_yYdBRbPmBMUZHXwqGxNx', np.float64(0.959)), ('utm_medium_clicks', 'utm_campaign_TIRYvHSoLonAvRZefPmz', np.float64(0.956)), ('utm_medium_smartbanner', 'utm_campaign_jqlUOdZBNZYfInQVcZlS', np.float64(0.941)), ('utm_adcontent_AdeErYgVTbRcAWtHrMHq', 'utm_keyword_pucKZkLDtpMDBTobJAJG', np.float64(0.94)), ('utm_campaign_QdLfySaGXolfTBSNVfHn', 'utm_adcontent_SOkCdPxfUcZUzzOdgGES', np.float64(0.935)), ('utm_campaign_pZusNNTculJrJpXVbetv', 'utm_adcontent_EsbpyHMkFkavykEeYhch', np.float64(0.935)), ('utm_medium_landing', 'utm_campaign_KCcrgoFqYxCpSjdRyJjZ', np.float64(0.934)), ('utm_source_gDBGzjFKYabGgSPZvrDH', 'utm_adcontent_UxrnyMlRBSOhOjytXnMG', np.float64(0.926)), ('utm_source_eLzNJHzPelJpEyBwMrKo', 'utm_adcontent_AdeErYgVTbRcAWtHrMHq', np.float64(0.921)), ('utm_source_qVXuCoVQtPxcUkAXiXBa', 'utm_campaign_jfLxUKobDdJlutbwyjaU', np.float64(0.915)), ('utm_medium_tg', 'utm_campaign_wpmatvDuiMutnvmNVPJo', np.float64(0.912)), ('utm_source_gPinzYOcsxiWLoYRKIhm', 'utm_medium_nkp', np.float64(0.907)), ('utm_source_gLXXuZYbFVYlDWhMmZiU', 'utm_campaign_vZqcBrFwxYPoYzJyhYGI', np.float64(0.903)), ('utm_source_gLXXuZYbFVYlDWhMmZiU', 'utm_adcontent_NnaLweGiAhdtkuktFipk', np.float64(0.903)), ('utm_medium_medium', 'utm_campaign_vZqcBrFwxYPoYzJyhYGI', np.float64(0.903)), ('utm_medium_medium', 'utm_adcontent_NnaLweGiAhdtkuktFipk', np.float64(0.903)), ('utm_medium_cpa', 'utm_campaign_mSVMBvlHFgftJaQAZEdp', np.float64(0.902)), ('device_category_desktop', 'device_category_mobile', np.float64(-0.891)), ('device_category_mobile', 'device_brand_nan', np.float64(-0.888)), ('utm_medium_post', 'utm_campaign_ESphyUeLTPINiYALHWrO', np.float64(0.88)), ('utm_campaign_LPiQJDVEpMDecOsQvTTl', 'utm_adcontent_tNrhJmDqMWHJJeiSINtD', np.float64(0.879)), ('utm_source_tzIeQUUHahhBuEkJqDVp', 'utm_campaign_TOtlRhDcJiAMnHYarArU', np.float64(0.866)), ('utm_campaign_okTXSMadDkjvntEHzIjp', 'utm_keyword_aXQzDWsJuGXeBXexNHjc', np.float64(0.865)), ('utm_adcontent_WbmadpYgwtVCcAwGJoXb', 'utm_keyword_gEydMgyogRBSsihrQQwd', np.float64(0.861)), ('utm_campaign_okTXSMadDkjvntEHzIjp', 'utm_adcontent_LLfCasrxQzJIyuldcuWy', np.float64(0.858)), ('utm_source_ZpYIoDJMcFzVoPFsHGJL', 'utm_medium_banner', np.float64(0.857)), ('utm_source_faqsogjxCvbseFqupueU', 'utm_campaign_dZqEgyoxhtbeLFMtnnVR', np.float64(0.85)), ('utm_medium_stories', 'utm_campaign_QEejXfOCtOMFLZqIPApp', np.float64(0.844)), ('utm_source_gaFBXpMUrvHAilRkjPSS', 'utm_medium_article', np.float64(0.837)), ('utm_source_vFcAhRxLfOWKhvxjELkx', 'utm_keyword_aXQzDWsJuGXeBXexNHjc', np.float64(0.837)), ('utm_medium_landing_interests', 'utm_campaign_gEydMgyogRBSsihrQQwd', np.float64(0.837)), ('utm_source_vFcAhRxLfOWKhvxjELkx', 'utm_adcontent_LLfCasrxQzJIyuldcuWy', np.float64(0.835)), ('utm_source_mNTexKeDdCADhrBgkEeA', 'utm_medium_static', np.float64(0.829)), ('utm_source_nmfptFmSirEqNzAzqbXA', 'utm_adcontent_xnyHaukLtAvgViiZSyBC', np.float64(0.82)), ('utm_source_nan', 'utm_medium_nan', np.float64(0.82)), ('utm_source_nan', 'device_category_nan', np.float64(0.82)), ('utm_source_nan', 'geo_country_nan', np.float64(0.82)), ('utm_source_MvfHsxITijuriZxsqZqt', 'utm_adcontent_xhoenQgDQsgfEPYNPwKO', np.float64(0.818)), ('utm_campaign_fBaFZNWyrwtUZQWItcsr', 'utm_adcontent_FTbuAcijicBuwxycfGPB', np.float64(0.816)), ('utm_campaign_kGgpyeEtacYWhzbuuWMR', 'utm_keyword_thYHTtYeWMvbXnHTRwgj', np.float64(0.816)), ('device_os_Windows Phone', 'device_model_JNHcPlZPxEMWDnRiyoBf', np.float64(0.816)), ('utm_campaign_deUhHtuyPVpBrqXAuTJK', 'utm_adcontent_TbRYODQKoEeDtSgVDXSU', np.float64(0.814)), ('utm_medium_cpm', 'utm_campaign_FTjNLDyTrXaWYgZymFkV', np.float64(0.809)), ('utm_campaign_yfjcpPqMeNcSIiswGTeQ', 'utm_adcontent_vhVTQFAHzzstHBwdbSyd', np.float64(0.805)), ('utm_source_hTjLvqNxGggkGnxSCaTm', 'utm_medium_stories', np.float64(0.802)), ('utm_campaign_KyobiyHqbFtWswycTXJo', 'utm_adcontent_fDLlAcSmythWSCVMvqvL', np.float64(0.799)), ('utm_source_bgTYkDHjOsJzMUtoGhiQ', 'utm_medium_yandex_cpc', np.float64(0.796)), ('utm_campaign_FTjNLDyTrXaWYgZymFkV', 'utm_adcontent_xhoenQgDQsgfEPYNPwKO', np.float64(0.796)), ('utm_source_bByPQxmDaMXgpHeypKSM', 'utm_medium_referral', np.float64(0.794)), ('utm_source_MvfHsxITijuriZxsqZqt', 'utm_campaign_FTjNLDyTrXaWYgZymFkV', np.float64(0.793)), ('utm_source_LIWKeifdTCbuNeniIUqm', 'utm_campaign_lndNIerCYECRQvBTyTye', np.float64(0.792)), ('utm_medium_link', 'utm_campaign_lndNIerCYECRQvBTyTye', np.float64(0.792)), ('utm_campaign_BHcvLfOaCWvWTykYqHVe', 'utm_adcontent_eCPVFTOzrcBYtbtWCUpF', np.float64(0.79)), ('utm_source_juYouSPHPfKdXivEPJjt', 'utm_keyword_HhhFrJNxtyFmfHjucLwg', np.float64(0.786)), ('utm_source_juYouSPHPfKdXivEPJjt', 'utm_adcontent_xkJsGXLqyYzSpiVklGLY', np.float64(0.783)), ('device_brand_Kata', 'device_model_CHEgAchdlTbIOcHAYzGk', np.float64(0.779)), ('utm_adcontent_oAsSPBTisuaTtTIyrxtp', 'utm_keyword_TmLcOgercnkJQrPmRxsU', np.float64(0.777)), ('utm_source_RzLAoRYmCtVATSoPvWAQ', 'utm_adcontent_FOpwpdsyixiqHvfVmkRD', np.float64(0.775)), ('utm_source_ghoaGAksqhKomdFrxgyJ', 'utm_adcontent_NhvfEqcSTGEZKxxvUZlj', np.float64(0.769)), ('utm_campaign_LbYgXRsCfbfDfXBVePCv', 'utm_adcontent_kaaekPgmOvwMQoAiAzaV', np.float64(0.764)), ('device_os_iOS', 'device_brand_Apple', np.float64(0.759)), ('utm_source_IZEXUFLARCUMynmHNBGo', 'utm_medium_blogger_channel', np.float64(0.753)), ('utm_campaign_yxtFdhyijaALzWWYtzHE', 'utm_keyword_vOXubAVUYXkYNgrXYqNP', np.float64(0.75)), ('utm_source_NGNkCWwKgYFmiCCeZVxg', 'utm_keyword_xMYlmvNxReLFGfXkQTYj', np.float64(0.747)), ('utm_source_GmILPdZyuAVJCPsUBHeN', 'utm_medium_clicks', np.float64(0.736)), ('utm_source_ISrKoXQCxqqYvAZICvjs', 'utm_medium_blogger_stories', np.float64(0.736)), ('utm_medium_push', 'utm_campaign_sbJRYgVfvcnqKJNDDYIr', np.float64(0.736)), ('utm_campaign_TPmcSCdCeBenCRczRhPK', 'utm_adcontent_isYoUwVPnRHJczHiHQbB', np.float64(0.732)), ('utm_adcontent_xkJsGXLqyYzSpiVklGLY', 'utm_keyword_HhhFrJNxtyFmfHjucLwg', np.float64(0.728)), ('utm_source_MvfHsxITijuriZxsqZqt', 'utm_medium_cpm', np.float64(0.727)), ('utm_source_geDcueAOghDzHkGMmdOq', 'utm_adcontent_WYLajZgbUhGimwBKDZUH', np.float64(0.725)), ('utm_medium_cpm', 'utm_adcontent_xhoenQgDQsgfEPYNPwKO', np.float64(0.724)), ('utm_medium_cpc', 'utm_adcontent_nan', np.float64(0.714)), ('utm_source_eBckTUycdWUDbWqXENLu', 'utm_medium_tablet', np.float64(0.707)), ('utm_source_eBckTUycdWUDbWqXENLu', 'utm_campaign_UgWjaOmKUxPFucSbwvSq', np.float64(0.707)), ('utm_source_eBckTUycdWUDbWqXENLu', 'utm_campaign_VbwhIlTuTQfiffXsGgWV', np.float64(0.707)), ('utm_source_qkJqOqfMTtlyzUhWxuhL', 'utm_campaign_NAGIDBigiKYOOmeMVBQq', np.float64(0.707)), ('utm_medium_linktest', 'utm_campaign_NAGIDBigiKYOOmeMVBQq', np.float64(0.707)), ('device_os_Nokia', 'device_model_MBGYWAQSYWUphNxTsAWD', np.float64(0.707)), ('utm_source_nnaPUJiwrEHwnRkuzmDD', 'utm_keyword_slkLspXnNYPQGEqeIWrs', np.float64(0.706)), ('utm_source_GmILPdZyuAVJCPsUBHeN', 'utm_campaign_TIRYvHSoLonAvRZefPmz', np.float64(0.704)), ('utm_campaign_ZggPbXStNGQhzWMEBOLM', 'utm_keyword_VQdCLycKmynJLXIDpEYt', np.float64(0.697)), ('utm_medium_sms', 'utm_campaign_qTERPbkOaRvjtQXXEwdb', np.float64(0.682)), ('utm_source_hTjLvqNxGggkGnxSCaTm', 'utm_campaign_QEejXfOCtOMFLZqIPApp', np.float64(0.676)), ('utm_source_gaFBXpMUrvHAilRkjPSS', 'utm_keyword_ZEKdPvqkBZTCGcxkAsdz', np.float64(0.672)), ('utm_source_EyveFmCGCQchHbSIRpVc', 'utm_adcontent_MAmrReLMhdunblCfxPot', np.float64(0.671)), ('utm_campaign_LEoPHuyFvzoNfnzGgfcd', 'utm_adcontent_vCIpmpaGBnIQhyYNkXqp', np.float64(0.671)), ('utm_campaign_GbuDbHhyctlqNtNRnebC', 'utm_keyword_JdLDXLLzKXZlxBJrDTXh', np.float64(0.667)), ('utm_adcontent_JNHcPlZPxEMWDnRiyoBf', 'utm_adcontent_nan', np.float64(-0.664)), ('utm_adcontent_kZBJHrVaekBwnsMoBrtF', 'utm_keyword_iChICoBNhQpGctcwbFan', np.float64(0.659)), ('utm_source_BHcvLfOaCWvWTykYqHVe', 'utm_campaign_nan', np.float64(0.651)), ('utm_adcontent_qVMaPuMKrfaOOChIhIJl', 'utm_keyword_slkLspXnNYPQGEqeIWrs', np.float64(0.648)), ('utm_source_NGNkCWwKgYFmiCCeZVxg', 'utm_keyword_aVpHHMXeGTRlQvVjmqUe', np.float64(0.645)), ('utm_campaign_jpjTolpOezlrOPAunDZi', 'utm_adcontent_FXpnPQVvfePoCAKRMpRV', np.float64(0.643)), ('utm_source_nnaPUJiwrEHwnRkuzmDD', 'utm_adcontent_qVMaPuMKrfaOOChIhIJl', np.float64(0.635)), ('utm_adcontent_FOpwpdsyixiqHvfVmkRD', 'utm_keyword_EqdTaaqmzwekKPAdLBYe', np.float64(0.632)), ('utm_adcontent_NUkWLMZGFsiVUNEECwyd', 'utm_keyword_HwAaYWqVHOvKPlrcQMnj', np.float64(0.629)), ('utm_campaign_LbYgXRsCfbfDfXBVePCv', 'utm_adcontent_LrfKeexYNjGjsqQVSCdi', np.float64(0.624)), ('utm_adcontent_sMBIidTLSrYkjsCEvwht', 'utm_keyword_ANoZJgYuPrWNkAAchryx', np.float64(0.62)), ('utm_campaign_BKeImrJuRDZcHiSSTdzm', 'utm_adcontent_ODLcVlzKCdodjHQNkIoL', np.float64(0.618)), ('utm_campaign_vbDXvNFpmAgCDpNuuaPT', 'utm_keyword_zPBqzGRFtKFKtOkqvmpm', np.float64(0.615)), ('utm_campaign_BHcvLfOaCWvWTykYqHVe', 'utm_adcontent_jMNfDMEvJFVnXWOpECtJ', np.float64(0.613)), ('utm_source_PlbkrSYoHuZBWfYjYnfw', 'utm_campaign_izpGVnqOrUbTVctFBiaU', np.float64(0.609)), ('utm_adcontent_lBvcHmZkKpwCXdgWSQYO', 'utm_keyword_CqeIpFwJscTsZoYXdHsP', np.float64(0.608)), ('utm_campaign_nan', 'utm_adcontent_nan', np.float64(0.606)), ('utm_source_GpAkIXsclxDGyILfNlrR', 'utm_campaign_XGYOaJEasWTwAKNdCGVX', np.float64(0.605)), ('utm_source_bgTYkDHjOsJzMUtoGhiQ', 'utm_medium_google_cpc', np.float64(0.605)), ('utm_medium_banner', 'utm_campaign_LEoPHuyFvzoNfnzGgfcd', np.float64(0.605)), ('utm_source_PlbkrSYoHuZBWfYjYnfw', 'utm_campaign_wWtqUernqIfFLJdJysKt', np.float64(0.602)), ('utm_campaign_KyobiyHqbFtWswycTXJo', 'utm_adcontent_ywScCjfXuJyLkJMzfjEB', np.float64(0.601))]\n"
     ]
    }
   ],
   "execution_count": 24
  },
  {
   "metadata": {},
   "cell_type": "markdown",
   "source": "Удалим коррелирующие колонки из df_key_features. Удалять будем по первому значению из пар - pair[0]",
   "id": "f2bba5414ddc1deb"
  },
  {
   "metadata": {
    "ExecuteTime": {
     "end_time": "2025-06-14T21:18:02.516616Z",
     "start_time": "2025-06-14T21:17:49.494782Z"
    }
   },
   "cell_type": "code",
   "source": [
    "corr_columns_for_delete = [pair[0] for pair in corr_pairs_sorted]\n",
    "df_key_features.drop(corr_columns_for_delete, axis=1, inplace=True)\n",
    "print(df_key_features.columns.size)"
   ],
   "id": "4a695a07e02fe502",
   "outputs": [
    {
     "name": "stdout",
     "output_type": "stream",
     "text": [
      "2539\n"
     ]
    }
   ],
   "execution_count": 25
  },
  {
   "metadata": {},
   "cell_type": "markdown",
   "source": "Теперь у нас есть все данные для обучения и оценки модели. Отдельно хочу отметить, что все ключевые характеристики - категориальные, числовые не используются по условию задачи, поэтому я не проводил оценку и очистку данных от выбросов, это не требуется в данном случае.",
   "id": "2968a9871c8f7b10"
  },
  {
   "metadata": {},
   "cell_type": "markdown",
   "source": "## Modeling",
   "id": "ebd2526880f7b002"
  },
  {
   "metadata": {},
   "cell_type": "markdown",
   "source": "Подготовим входные данные для моделирования, очевидно, что X в данном случае - это df_key_features, а y следует вывести, как бинарную характеристику из df['event_action'], для чего возьмем из методических указаний список тех значений event_action, которые соответствуют совершению целевого действия",
   "id": "ec53d88d5bf5547a"
  },
  {
   "metadata": {
    "ExecuteTime": {
     "end_time": "2025-06-14T21:18:02.672140Z",
     "start_time": "2025-06-14T21:18:02.599186Z"
    }
   },
   "cell_type": "code",
   "source": [
    "target_event_actions = ['sub_car_claim_click', 'sub_car_claim_submit_click',\n",
    "'sub_open_dialog_click', 'sub_custom_question_submit_click',\n",
    "'sub_call_number_click', 'sub_callback_submit_click', 'sub_submit_success',\n",
    "'sub_car_request_submit_click']\n",
    "\n",
    "df['event_action'] = df['event_action'].apply(lambda x: 1 if x in target_event_actions else 0)\n",
    "\n",
    "X = df_key_features\n",
    "y = df['event_action']"
   ],
   "id": "3f5c7039caed57db",
   "outputs": [],
   "execution_count": 26
  },
  {
   "metadata": {},
   "cell_type": "markdown",
   "source": "Теперь обучим три вида моделей с некотороми заданными параметрам и оценим качество моделей, чтобы выбрать 1) лучшую модель из трех и 2) подбором параметров добьемся, чтобы целевое действие предсказывалось с ориентировочным значением roc-auc 0.65 или лучше. Чтобы получить нужные значения, возможно, придется повторить оценку моделей несколько раз, варьируя их параметры",
   "id": "42c22964a3c9a1ac"
  },
  {
   "metadata": {
    "ExecuteTime": {
     "end_time": "2025-06-15T01:18:03.740747Z",
     "start_time": "2025-06-14T21:18:02.801894Z"
    }
   },
   "cell_type": "code",
   "source": [
    "models = (\n",
    "    LogisticRegression(solver='liblinear'),\n",
    "    RandomForestClassifier(),\n",
    "    MLPClassifier(activation='logistic', hidden_layer_sizes=(256, 128, 64))\n",
    ")\n",
    "\n",
    "best_roc_auc = .0\n",
    "best_model = None\n",
    "# это нужно, так как иногда cross_val_score делает разбиение так, что в таргете оказывается только единственное значение 0 или 1, как было и у меня, такая настройка помогает избежать этой ситуации\n",
    "strat_kfold = StratifiedKFold(n_splits=4, shuffle=True, random_state=42)\n",
    "for m in models:\n",
    "    roc_auc = cross_val_score(m, X, y, cv=strat_kfold, scoring='roc_auc')\n",
    "    print(f'model: {type(m).__name__}, roc_auc_mean: {roc_auc.mean():.4f}, roc_auc_std: {roc_auc.std():.4f}')\n",
    "    if roc_auc.mean() > best_roc_auc:\n",
    "        best_roc_auc = roc_auc.mean()\n",
    "        best_model = m\n",
    "        \n",
    "print(f'best model: {type(m).__name__}, roc_auc: {best_roc_auc:.4f}')"
   ],
   "id": "7e43ed3b30c195f",
   "outputs": [
    {
     "name": "stdout",
     "output_type": "stream",
     "text": [
      "model: LogisticRegression, roc_auc_mean: 0.6912, roc_auc_std: 0.0043\n",
      "model: RandomForestClassifier, roc_auc_mean: 0.7159, roc_auc_std: 0.0060\n",
      "model: MLPClassifier, roc_auc_mean: 0.7318, roc_auc_std: 0.0043\n",
      "best model: MLPClassifier, roc_auc: 0.7318\n"
     ]
    }
   ],
   "execution_count": 27
  },
  {
   "metadata": {},
   "cell_type": "markdown",
   "source": "Выполним обучение модели и сохраним ее в формате .pkl для дальнейшего развертывания в сервисе",
   "id": "9c607300ae671dad"
  },
  {
   "metadata": {
    "ExecuteTime": {
     "end_time": "2025-06-15T02:30:45.214832Z",
     "start_time": "2025-06-15T01:18:03.846174Z"
    }
   },
   "cell_type": "code",
   "source": [
    "best_model.fit(X, y)\n",
    "with open('data/sber_auto_subscribing.pkl', 'wb') as file:\n",
    "    dill.dump({\n",
    "        'model': best_model,\n",
    "        'metadata': {\n",
    "            'name': 'Sber auto subscribing prediction model',\n",
    "            'author': 'Andrei Iamangulov',\n",
    "            'version': 1,\n",
    "            'date': datetime.now(),\n",
    "            'type': type(m).__name__,\n",
    "            'accuracy': best_roc_auc\n",
    "        }\n",
    "    }, file)"
   ],
   "id": "b6bd72c3054ba0c2",
   "outputs": [],
   "execution_count": 28
  },
  {
   "metadata": {},
   "cell_type": "markdown",
   "source": "У нас есть .pkl файл для создания сервиса, подготовленный сервис находится в файле main.py. Отдельно хочу заметить, что по условию задания не требовалось явным образом переносить шаги из jupiter ноутбука в sklearn пайплайн. Аппаратных ресурсов у меня хватило для подготовки файла .pkl для деплоймента прямо в ноутбуке. При больших требованиях к ресурсам мне бы потребовалось действительно перенести все стадии подготовки в пайплайн, выполнить его где-нибудь в облаке или на on-premise кластере (например, с установленным Spark, с соответствующей доработкой пайплайна под API Spark вместо pandas). ",
   "id": "b5560240317e134f"
  }
 ],
 "metadata": {
  "kernelspec": {
   "display_name": "Python 3",
   "language": "python",
   "name": "python3"
  },
  "language_info": {
   "codemirror_mode": {
    "name": "ipython",
    "version": 2
   },
   "file_extension": ".py",
   "mimetype": "text/x-python",
   "name": "python",
   "nbconvert_exporter": "python",
   "pygments_lexer": "ipython2",
   "version": "2.7.6"
  }
 },
 "nbformat": 4,
 "nbformat_minor": 5
}
